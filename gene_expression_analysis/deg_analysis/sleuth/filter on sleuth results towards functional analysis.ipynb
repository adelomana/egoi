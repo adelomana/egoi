{
 "cells": [
  {
   "cell_type": "markdown",
   "id": "c9e02853",
   "metadata": {},
   "source": [
    "# info\n",
    "This script generates a file with filtered DEGs derived from patient-specific DEG calling."
   ]
  },
  {
   "cell_type": "markdown",
   "id": "fce7cc84",
   "metadata": {},
   "source": [
    "Filters are:\n",
    "1. Filter on P < 0.05 and Q < 0.1 for DESeq2.\n",
    "2. Filter out genes that in the comparison do not cross the 2 TPM barrier.\n",
    "3. Discrete abs log2 FC > 1\n",
    "\n",
    "Coherent DEGs are the ones that pass all three filters in n-1 patients."
   ]
  },
  {
   "cell_type": "code",
   "execution_count": 1,
   "id": "f1e61540",
   "metadata": {},
   "outputs": [],
   "source": [
    "import pandas, os, numpy, pybiomart"
   ]
  },
  {
   "cell_type": "markdown",
   "id": "9b29d125",
   "metadata": {},
   "source": [
    "# 0. user-defined variables"
   ]
  },
  {
   "cell_type": "code",
   "execution_count": 2,
   "id": "e34ff5cc",
   "metadata": {},
   "outputs": [],
   "source": [
    "expression_threshold = 2\n",
    "discrete_fc_threshold = 1\n",
    "noise_threshold = 1/2"
   ]
  },
  {
   "cell_type": "code",
   "execution_count": 3,
   "id": "262af060",
   "metadata": {},
   "outputs": [],
   "source": [
    "hypotheses = ['hypothesis_A', 'hypothesis_B', 'hypothesis_E']\n",
    "trends = ['up', 'down']"
   ]
  },
  {
   "cell_type": "code",
   "execution_count": 4,
   "id": "a70af446",
   "metadata": {},
   "outputs": [],
   "source": [
    "metadata_file = '/home/adrian/projects/hegoi/metadata/hegoi metadata - hypotheses formatted for filter.tsv'\n",
    "#####!!!! the following line needs to change\n",
    "tpm_file = '/home/adrian/projects/hegoi/results/tpm/DESeq2_TPM_values.tsv'\n",
    "sleuth_folder = '/home/adrian/projects/hegoi/results/subsamples/sleuth/'\n",
    "\n",
    "output_dir = '/home/adrian/projects/hegoi/results/subsamples/sleuth/filtered/'\n",
    "filtered_DEGs_file = '/home/adrian/projects/hegoi/results/subsamples/sleuth/filtered/filtered_DEGs.tsv'"
   ]
  },
  {
   "cell_type": "markdown",
   "id": "de5d0737",
   "metadata": {},
   "source": [
    "# 1. build annotation"
   ]
  },
  {
   "cell_type": "code",
   "execution_count": 5,
   "id": "515f1a71",
   "metadata": {},
   "outputs": [
    {
     "data": {
      "text/html": [
       "<div>\n",
       "<style scoped>\n",
       "    .dataframe tbody tr th:only-of-type {\n",
       "        vertical-align: middle;\n",
       "    }\n",
       "\n",
       "    .dataframe tbody tr th {\n",
       "        vertical-align: top;\n",
       "    }\n",
       "\n",
       "    .dataframe thead th {\n",
       "        text-align: right;\n",
       "    }\n",
       "</style>\n",
       "<table border=\"1\" class=\"dataframe\">\n",
       "  <thead>\n",
       "    <tr style=\"text-align: right;\">\n",
       "      <th></th>\n",
       "      <th>NCBI gene (formerly Entrezgene) ID</th>\n",
       "      <th>Gene type</th>\n",
       "      <th>Gene name</th>\n",
       "      <th>Gene description</th>\n",
       "    </tr>\n",
       "    <tr>\n",
       "      <th>Gene stable ID</th>\n",
       "      <th></th>\n",
       "      <th></th>\n",
       "      <th></th>\n",
       "      <th></th>\n",
       "    </tr>\n",
       "  </thead>\n",
       "  <tbody>\n",
       "    <tr>\n",
       "      <th>ENSG00000210049</th>\n",
       "      <td>-1</td>\n",
       "      <td>Mt_tRNA</td>\n",
       "      <td>MT-TF</td>\n",
       "      <td>mitochondrially encoded tRNA-Phe (UUU/C) [Sour...</td>\n",
       "    </tr>\n",
       "    <tr>\n",
       "      <th>ENSG00000211459</th>\n",
       "      <td>-1</td>\n",
       "      <td>Mt_rRNA</td>\n",
       "      <td>MT-RNR1</td>\n",
       "      <td>mitochondrially encoded 12S rRNA [Source:HGNC ...</td>\n",
       "    </tr>\n",
       "    <tr>\n",
       "      <th>ENSG00000210077</th>\n",
       "      <td>-1</td>\n",
       "      <td>Mt_tRNA</td>\n",
       "      <td>MT-TV</td>\n",
       "      <td>mitochondrially encoded tRNA-Val (GUN) [Source...</td>\n",
       "    </tr>\n",
       "    <tr>\n",
       "      <th>ENSG00000210082</th>\n",
       "      <td>-1</td>\n",
       "      <td>Mt_rRNA</td>\n",
       "      <td>MT-RNR2</td>\n",
       "      <td>mitochondrially encoded 16S rRNA [Source:HGNC ...</td>\n",
       "    </tr>\n",
       "    <tr>\n",
       "      <th>ENSG00000209082</th>\n",
       "      <td>-1</td>\n",
       "      <td>Mt_tRNA</td>\n",
       "      <td>MT-TL1</td>\n",
       "      <td>mitochondrially encoded tRNA-Leu (UUA/G) 1 [So...</td>\n",
       "    </tr>\n",
       "    <tr>\n",
       "      <th>...</th>\n",
       "      <td>...</td>\n",
       "      <td>...</td>\n",
       "      <td>...</td>\n",
       "      <td>...</td>\n",
       "    </tr>\n",
       "    <tr>\n",
       "      <th>ENSG00000162543</th>\n",
       "      <td>127733</td>\n",
       "      <td>protein_coding</td>\n",
       "      <td>UBXN10</td>\n",
       "      <td>UBX domain protein 10 [Source:HGNC Symbol;Acc:...</td>\n",
       "    </tr>\n",
       "    <tr>\n",
       "      <th>ENSG00000134686</th>\n",
       "      <td>1912</td>\n",
       "      <td>protein_coding</td>\n",
       "      <td>PHC2</td>\n",
       "      <td>polyhomeotic homolog 2 [Source:HGNC Symbol;Acc...</td>\n",
       "    </tr>\n",
       "    <tr>\n",
       "      <th>ENSG00000159023</th>\n",
       "      <td>2035</td>\n",
       "      <td>protein_coding</td>\n",
       "      <td>EPB41</td>\n",
       "      <td>erythrocyte membrane protein band 4.1 [Source:...</td>\n",
       "    </tr>\n",
       "    <tr>\n",
       "      <th>ENSG00000198216</th>\n",
       "      <td>777</td>\n",
       "      <td>protein_coding</td>\n",
       "      <td>CACNA1E</td>\n",
       "      <td>calcium voltage-gated channel subunit alpha1 E...</td>\n",
       "    </tr>\n",
       "    <tr>\n",
       "      <th>ENSG00000159388</th>\n",
       "      <td>7832</td>\n",
       "      <td>protein_coding</td>\n",
       "      <td>BTG2</td>\n",
       "      <td>BTG anti-proliferation factor 2 [Source:HGNC S...</td>\n",
       "    </tr>\n",
       "  </tbody>\n",
       "</table>\n",
       "<p>75113 rows × 4 columns</p>\n",
       "</div>"
      ],
      "text/plain": [
       "                 NCBI gene (formerly Entrezgene) ID       Gene type Gene name  \\\n",
       "Gene stable ID                                                                  \n",
       "ENSG00000210049                                  -1         Mt_tRNA     MT-TF   \n",
       "ENSG00000211459                                  -1         Mt_rRNA   MT-RNR1   \n",
       "ENSG00000210077                                  -1         Mt_tRNA     MT-TV   \n",
       "ENSG00000210082                                  -1         Mt_rRNA   MT-RNR2   \n",
       "ENSG00000209082                                  -1         Mt_tRNA    MT-TL1   \n",
       "...                                             ...             ...       ...   \n",
       "ENSG00000162543                              127733  protein_coding    UBXN10   \n",
       "ENSG00000134686                                1912  protein_coding      PHC2   \n",
       "ENSG00000159023                                2035  protein_coding     EPB41   \n",
       "ENSG00000198216                                 777  protein_coding   CACNA1E   \n",
       "ENSG00000159388                                7832  protein_coding      BTG2   \n",
       "\n",
       "                                                  Gene description  \n",
       "Gene stable ID                                                      \n",
       "ENSG00000210049  mitochondrially encoded tRNA-Phe (UUU/C) [Sour...  \n",
       "ENSG00000211459  mitochondrially encoded 12S rRNA [Source:HGNC ...  \n",
       "ENSG00000210077  mitochondrially encoded tRNA-Val (GUN) [Source...  \n",
       "ENSG00000210082  mitochondrially encoded 16S rRNA [Source:HGNC ...  \n",
       "ENSG00000209082  mitochondrially encoded tRNA-Leu (UUA/G) 1 [So...  \n",
       "...                                                            ...  \n",
       "ENSG00000162543  UBX domain protein 10 [Source:HGNC Symbol;Acc:...  \n",
       "ENSG00000134686  polyhomeotic homolog 2 [Source:HGNC Symbol;Acc...  \n",
       "ENSG00000159023  erythrocyte membrane protein band 4.1 [Source:...  \n",
       "ENSG00000198216  calcium voltage-gated channel subunit alpha1 E...  \n",
       "ENSG00000159388  BTG anti-proliferation factor 2 [Source:HGNC S...  \n",
       "\n",
       "[75113 rows x 4 columns]"
      ]
     },
     "execution_count": 5,
     "metadata": {},
     "output_type": "execute_result"
    }
   ],
   "source": [
    "dataset = pybiomart.Dataset(name='hsapiens_gene_ensembl', host='http://www.ensembl.org')\n",
    "annotation = dataset.query(attributes=['ensembl_gene_id', 'entrezgene_id', 'gene_biotype', 'external_gene_name', 'description'])\n",
    "annotation.fillna(value={'NCBI gene (formerly Entrezgene) ID':-1}, inplace=True)\n",
    "annotation = annotation.astype({'NCBI gene (formerly Entrezgene) ID':'int'})\n",
    "annotation.set_index('Gene stable ID', inplace=True)\n",
    "annotation"
   ]
  },
  {
   "cell_type": "markdown",
   "id": "810f329b",
   "metadata": {},
   "source": [
    "# 1. read input files"
   ]
  },
  {
   "cell_type": "markdown",
   "id": "6be307aa",
   "metadata": {},
   "source": [
    "## 1.1 read expression data"
   ]
  },
  {
   "cell_type": "code",
   "execution_count": 6,
   "id": "9f210abc",
   "metadata": {
    "scrolled": false
   },
   "outputs": [
    {
     "data": {
      "text/plain": [
       "(40173, 26)"
      ]
     },
     "execution_count": 6,
     "metadata": {},
     "output_type": "execute_result"
    }
   ],
   "source": [
    "expression = pandas.read_csv(tpm_file, sep='\\t', index_col=0)\n",
    "sample_names = expression.columns.to_list()\n",
    "\n",
    "expression.shape"
   ]
  },
  {
   "cell_type": "markdown",
   "id": "2508a907",
   "metadata": {},
   "source": [
    "## 1.2. read metadata"
   ]
  },
  {
   "cell_type": "code",
   "execution_count": 7,
   "id": "dbaaf8ab",
   "metadata": {},
   "outputs": [
    {
     "data": {
      "text/html": [
       "<div>\n",
       "<style scoped>\n",
       "    .dataframe tbody tr th:only-of-type {\n",
       "        vertical-align: middle;\n",
       "    }\n",
       "\n",
       "    .dataframe tbody tr th {\n",
       "        vertical-align: top;\n",
       "    }\n",
       "\n",
       "    .dataframe thead th {\n",
       "        text-align: right;\n",
       "    }\n",
       "</style>\n",
       "<table border=\"1\" class=\"dataframe\">\n",
       "  <thead>\n",
       "    <tr style=\"text-align: right;\">\n",
       "      <th></th>\n",
       "      <th>patient</th>\n",
       "      <th>sampleA</th>\n",
       "      <th>sampleB</th>\n",
       "    </tr>\n",
       "    <tr>\n",
       "      <th>hypothesis</th>\n",
       "      <th></th>\n",
       "      <th></th>\n",
       "      <th></th>\n",
       "    </tr>\n",
       "  </thead>\n",
       "  <tbody>\n",
       "    <tr>\n",
       "      <th>hypothesis_A</th>\n",
       "      <td>46</td>\n",
       "      <td>Stat46</td>\n",
       "      <td>Lami46</td>\n",
       "    </tr>\n",
       "    <tr>\n",
       "      <th>hypothesis_A</th>\n",
       "      <td>153</td>\n",
       "      <td>Stat153</td>\n",
       "      <td>Lam153</td>\n",
       "    </tr>\n",
       "    <tr>\n",
       "      <th>hypothesis_A</th>\n",
       "      <td>154</td>\n",
       "      <td>Stat154</td>\n",
       "      <td>Lami154</td>\n",
       "    </tr>\n",
       "    <tr>\n",
       "      <th>hypothesis_A</th>\n",
       "      <td>94</td>\n",
       "      <td>Stat94</td>\n",
       "      <td>Lami94</td>\n",
       "    </tr>\n",
       "    <tr>\n",
       "      <th>hypothesis_B</th>\n",
       "      <td>46</td>\n",
       "      <td>Lami46</td>\n",
       "      <td>Osci46</td>\n",
       "    </tr>\n",
       "  </tbody>\n",
       "</table>\n",
       "</div>"
      ],
      "text/plain": [
       "              patient  sampleA  sampleB\n",
       "hypothesis                             \n",
       "hypothesis_A       46   Stat46   Lami46\n",
       "hypothesis_A      153  Stat153   Lam153\n",
       "hypothesis_A      154  Stat154  Lami154\n",
       "hypothesis_A       94   Stat94   Lami94\n",
       "hypothesis_B       46   Lami46   Osci46"
      ]
     },
     "execution_count": 7,
     "metadata": {},
     "output_type": "execute_result"
    }
   ],
   "source": [
    "metadata = pandas.read_csv(metadata_file, sep='\\t', index_col=0)\n",
    "metadata.head()"
   ]
  },
  {
   "cell_type": "markdown",
   "id": "a409f8c2",
   "metadata": {},
   "source": [
    "# 2. iterate over hypotheses and patients"
   ]
  },
  {
   "cell_type": "code",
   "execution_count": 8,
   "id": "38737756",
   "metadata": {},
   "outputs": [
    {
     "data": {
      "text/plain": [
       "Index(['NCBI gene (formerly Entrezgene) ID', 'Gene type', 'Gene name',\n",
       "       'Gene description'],\n",
       "      dtype='object')"
      ]
     },
     "execution_count": 8,
     "metadata": {},
     "output_type": "execute_result"
    }
   ],
   "source": [
    "annotation.columns"
   ]
  },
  {
   "cell_type": "code",
   "execution_count": 12,
   "id": "b6d2cc9d",
   "metadata": {},
   "outputs": [
    {
     "data": {
      "text/plain": [
       "['hypothesis_A_153.csv',\n",
       " 'hypothesis_D_154.csv',\n",
       " 'hypothesis_A_154.csv',\n",
       " 'hypothesis_B_153.csv',\n",
       " 'hypothesis_C_154.csv',\n",
       " 'hypothesis_B_154.csv',\n",
       " 'hypothesis_D_46.csv',\n",
       " 'hypothesis_D_94.csv',\n",
       " 'hypothesis_D_153.csv',\n",
       " 'hypothesis_B_46.csv',\n",
       " 'hypothesis_E_46.csv',\n",
       " 'hypothesis_C_109.csv',\n",
       " 'hypothesis_A_94.csv',\n",
       " 'hypothesis_E_154.csv',\n",
       " 'hypothesis_C_153.csv',\n",
       " 'hypothesis_E_153.csv',\n",
       " 'hypothesis_E_109.csv',\n",
       " 'hypothesis_C_46.csv',\n",
       " 'hypothesis_A_46.csv']"
      ]
     },
     "execution_count": 12,
     "metadata": {},
     "output_type": "execute_result"
    }
   ],
   "source": [
    "elements"
   ]
  },
  {
   "cell_type": "code",
   "execution_count": 23,
   "id": "61b071a9",
   "metadata": {
    "scrolled": false
   },
   "outputs": [
    {
     "name": "stdout",
     "output_type": "stream",
     "text": [
      "working with hypothesis_A\n",
      "['hypothesis_A_153.csv', 'hypothesis_A_154.csv', 'hypothesis_A_94.csv', 'hypothesis_A_46.csv'] 4\n",
      "/home/adrian/projects/hegoi/results/subsamples/sleuth/hypothesis_A_153.csv\n"
     ]
    },
    {
     "ename": "KeyError",
     "evalue": "'ENSG00000291237'",
     "output_type": "error",
     "traceback": [
      "\u001b[0;31m---------------------------------------------------------------------------\u001b[0m",
      "\u001b[0;31mKeyError\u001b[0m                                  Traceback (most recent call last)",
      "\u001b[0;32m~/anaconda3/lib/python3.9/site-packages/pandas/core/indexes/base.py\u001b[0m in \u001b[0;36mget_loc\u001b[0;34m(self, key, method, tolerance)\u001b[0m\n\u001b[1;32m   3628\u001b[0m             \u001b[0;32mtry\u001b[0m\u001b[0;34m:\u001b[0m\u001b[0;34m\u001b[0m\u001b[0;34m\u001b[0m\u001b[0m\n\u001b[0;32m-> 3629\u001b[0;31m                 \u001b[0;32mreturn\u001b[0m \u001b[0mself\u001b[0m\u001b[0;34m.\u001b[0m\u001b[0m_engine\u001b[0m\u001b[0;34m.\u001b[0m\u001b[0mget_loc\u001b[0m\u001b[0;34m(\u001b[0m\u001b[0mcasted_key\u001b[0m\u001b[0;34m)\u001b[0m\u001b[0;34m\u001b[0m\u001b[0;34m\u001b[0m\u001b[0m\n\u001b[0m\u001b[1;32m   3630\u001b[0m             \u001b[0;32mexcept\u001b[0m \u001b[0mKeyError\u001b[0m \u001b[0;32mas\u001b[0m \u001b[0merr\u001b[0m\u001b[0;34m:\u001b[0m\u001b[0;34m\u001b[0m\u001b[0;34m\u001b[0m\u001b[0m\n",
      "\u001b[0;32m~/anaconda3/lib/python3.9/site-packages/pandas/_libs/index.pyx\u001b[0m in \u001b[0;36mpandas._libs.index.IndexEngine.get_loc\u001b[0;34m()\u001b[0m\n",
      "\u001b[0;32m~/anaconda3/lib/python3.9/site-packages/pandas/_libs/index.pyx\u001b[0m in \u001b[0;36mpandas._libs.index.IndexEngine.get_loc\u001b[0;34m()\u001b[0m\n",
      "\u001b[0;32mpandas/_libs/hashtable_class_helper.pxi\u001b[0m in \u001b[0;36mpandas._libs.hashtable.PyObjectHashTable.get_item\u001b[0;34m()\u001b[0m\n",
      "\u001b[0;32mpandas/_libs/hashtable_class_helper.pxi\u001b[0m in \u001b[0;36mpandas._libs.hashtable.PyObjectHashTable.get_item\u001b[0;34m()\u001b[0m\n",
      "\u001b[0;31mKeyError\u001b[0m: 'ENSG00000291237'",
      "\nThe above exception was the direct cause of the following exception:\n",
      "\u001b[0;31mKeyError\u001b[0m                                  Traceback (most recent call last)",
      "\u001b[0;32m/tmp/ipykernel_36196/404428921.py\u001b[0m in \u001b[0;36m<module>\u001b[0;34m\u001b[0m\n\u001b[1;32m     44\u001b[0m \u001b[0;34m\u001b[0m\u001b[0m\n\u001b[1;32m     45\u001b[0m             \u001b[0;31m### 4.3. get reference and sample expression\u001b[0m\u001b[0;34m\u001b[0m\u001b[0;34m\u001b[0m\u001b[0m\n\u001b[0;32m---> 46\u001b[0;31m             \u001b[0mtpm_ref\u001b[0m \u001b[0;34m=\u001b[0m \u001b[0mexpression\u001b[0m\u001b[0;34m[\u001b[0m\u001b[0mref_label\u001b[0m\u001b[0;34m]\u001b[0m\u001b[0;34m.\u001b[0m\u001b[0mloc\u001b[0m\u001b[0;34m[\u001b[0m\u001b[0mensembl\u001b[0m\u001b[0;34m]\u001b[0m\u001b[0;34m\u001b[0m\u001b[0;34m\u001b[0m\u001b[0m\n\u001b[0m\u001b[1;32m     47\u001b[0m             \u001b[0mtpm_sam\u001b[0m \u001b[0;34m=\u001b[0m \u001b[0mexpression\u001b[0m\u001b[0;34m[\u001b[0m\u001b[0msam_label\u001b[0m\u001b[0;34m]\u001b[0m\u001b[0;34m.\u001b[0m\u001b[0mloc\u001b[0m\u001b[0;34m[\u001b[0m\u001b[0mensembl\u001b[0m\u001b[0;34m]\u001b[0m\u001b[0;34m\u001b[0m\u001b[0;34m\u001b[0m\u001b[0m\n\u001b[1;32m     48\u001b[0m \u001b[0;34m\u001b[0m\u001b[0m\n",
      "\u001b[0;32m~/anaconda3/lib/python3.9/site-packages/pandas/core/indexing.py\u001b[0m in \u001b[0;36m__getitem__\u001b[0;34m(self, key)\u001b[0m\n\u001b[1;32m    965\u001b[0m \u001b[0;34m\u001b[0m\u001b[0m\n\u001b[1;32m    966\u001b[0m             \u001b[0mmaybe_callable\u001b[0m \u001b[0;34m=\u001b[0m \u001b[0mcom\u001b[0m\u001b[0;34m.\u001b[0m\u001b[0mapply_if_callable\u001b[0m\u001b[0;34m(\u001b[0m\u001b[0mkey\u001b[0m\u001b[0;34m,\u001b[0m \u001b[0mself\u001b[0m\u001b[0;34m.\u001b[0m\u001b[0mobj\u001b[0m\u001b[0;34m)\u001b[0m\u001b[0;34m\u001b[0m\u001b[0;34m\u001b[0m\u001b[0m\n\u001b[0;32m--> 967\u001b[0;31m             \u001b[0;32mreturn\u001b[0m \u001b[0mself\u001b[0m\u001b[0;34m.\u001b[0m\u001b[0m_getitem_axis\u001b[0m\u001b[0;34m(\u001b[0m\u001b[0mmaybe_callable\u001b[0m\u001b[0;34m,\u001b[0m \u001b[0maxis\u001b[0m\u001b[0;34m=\u001b[0m\u001b[0maxis\u001b[0m\u001b[0;34m)\u001b[0m\u001b[0;34m\u001b[0m\u001b[0;34m\u001b[0m\u001b[0m\n\u001b[0m\u001b[1;32m    968\u001b[0m \u001b[0;34m\u001b[0m\u001b[0m\n\u001b[1;32m    969\u001b[0m     \u001b[0;32mdef\u001b[0m \u001b[0m_is_scalar_access\u001b[0m\u001b[0;34m(\u001b[0m\u001b[0mself\u001b[0m\u001b[0;34m,\u001b[0m \u001b[0mkey\u001b[0m\u001b[0;34m:\u001b[0m \u001b[0mtuple\u001b[0m\u001b[0;34m)\u001b[0m\u001b[0;34m:\u001b[0m\u001b[0;34m\u001b[0m\u001b[0;34m\u001b[0m\u001b[0m\n",
      "\u001b[0;32m~/anaconda3/lib/python3.9/site-packages/pandas/core/indexing.py\u001b[0m in \u001b[0;36m_getitem_axis\u001b[0;34m(self, key, axis)\u001b[0m\n\u001b[1;32m   1203\u001b[0m         \u001b[0;31m# fall thru to straight lookup\u001b[0m\u001b[0;34m\u001b[0m\u001b[0;34m\u001b[0m\u001b[0m\n\u001b[1;32m   1204\u001b[0m         \u001b[0mself\u001b[0m\u001b[0;34m.\u001b[0m\u001b[0m_validate_key\u001b[0m\u001b[0;34m(\u001b[0m\u001b[0mkey\u001b[0m\u001b[0;34m,\u001b[0m \u001b[0maxis\u001b[0m\u001b[0;34m)\u001b[0m\u001b[0;34m\u001b[0m\u001b[0;34m\u001b[0m\u001b[0m\n\u001b[0;32m-> 1205\u001b[0;31m         \u001b[0;32mreturn\u001b[0m \u001b[0mself\u001b[0m\u001b[0;34m.\u001b[0m\u001b[0m_get_label\u001b[0m\u001b[0;34m(\u001b[0m\u001b[0mkey\u001b[0m\u001b[0;34m,\u001b[0m \u001b[0maxis\u001b[0m\u001b[0;34m=\u001b[0m\u001b[0maxis\u001b[0m\u001b[0;34m)\u001b[0m\u001b[0;34m\u001b[0m\u001b[0;34m\u001b[0m\u001b[0m\n\u001b[0m\u001b[1;32m   1206\u001b[0m \u001b[0;34m\u001b[0m\u001b[0m\n\u001b[1;32m   1207\u001b[0m     \u001b[0;32mdef\u001b[0m \u001b[0m_get_slice_axis\u001b[0m\u001b[0;34m(\u001b[0m\u001b[0mself\u001b[0m\u001b[0;34m,\u001b[0m \u001b[0mslice_obj\u001b[0m\u001b[0;34m:\u001b[0m \u001b[0mslice\u001b[0m\u001b[0;34m,\u001b[0m \u001b[0maxis\u001b[0m\u001b[0;34m:\u001b[0m \u001b[0mint\u001b[0m\u001b[0;34m)\u001b[0m\u001b[0;34m:\u001b[0m\u001b[0;34m\u001b[0m\u001b[0;34m\u001b[0m\u001b[0m\n",
      "\u001b[0;32m~/anaconda3/lib/python3.9/site-packages/pandas/core/indexing.py\u001b[0m in \u001b[0;36m_get_label\u001b[0;34m(self, label, axis)\u001b[0m\n\u001b[1;32m   1151\u001b[0m     \u001b[0;32mdef\u001b[0m \u001b[0m_get_label\u001b[0m\u001b[0;34m(\u001b[0m\u001b[0mself\u001b[0m\u001b[0;34m,\u001b[0m \u001b[0mlabel\u001b[0m\u001b[0;34m,\u001b[0m \u001b[0maxis\u001b[0m\u001b[0;34m:\u001b[0m \u001b[0mint\u001b[0m\u001b[0;34m)\u001b[0m\u001b[0;34m:\u001b[0m\u001b[0;34m\u001b[0m\u001b[0;34m\u001b[0m\u001b[0m\n\u001b[1;32m   1152\u001b[0m         \u001b[0;31m# GH#5667 this will fail if the label is not present in the axis.\u001b[0m\u001b[0;34m\u001b[0m\u001b[0;34m\u001b[0m\u001b[0m\n\u001b[0;32m-> 1153\u001b[0;31m         \u001b[0;32mreturn\u001b[0m \u001b[0mself\u001b[0m\u001b[0;34m.\u001b[0m\u001b[0mobj\u001b[0m\u001b[0;34m.\u001b[0m\u001b[0mxs\u001b[0m\u001b[0;34m(\u001b[0m\u001b[0mlabel\u001b[0m\u001b[0;34m,\u001b[0m \u001b[0maxis\u001b[0m\u001b[0;34m=\u001b[0m\u001b[0maxis\u001b[0m\u001b[0;34m)\u001b[0m\u001b[0;34m\u001b[0m\u001b[0;34m\u001b[0m\u001b[0m\n\u001b[0m\u001b[1;32m   1154\u001b[0m \u001b[0;34m\u001b[0m\u001b[0m\n\u001b[1;32m   1155\u001b[0m     \u001b[0;32mdef\u001b[0m \u001b[0m_handle_lowerdim_multi_index_axis0\u001b[0m\u001b[0;34m(\u001b[0m\u001b[0mself\u001b[0m\u001b[0;34m,\u001b[0m \u001b[0mtup\u001b[0m\u001b[0;34m:\u001b[0m \u001b[0mtuple\u001b[0m\u001b[0;34m)\u001b[0m\u001b[0;34m:\u001b[0m\u001b[0;34m\u001b[0m\u001b[0;34m\u001b[0m\u001b[0m\n",
      "\u001b[0;32m~/anaconda3/lib/python3.9/site-packages/pandas/core/generic.py\u001b[0m in \u001b[0;36mxs\u001b[0;34m(self, key, axis, level, drop_level)\u001b[0m\n\u001b[1;32m   3862\u001b[0m                     \u001b[0mnew_index\u001b[0m \u001b[0;34m=\u001b[0m \u001b[0mindex\u001b[0m\u001b[0;34m[\u001b[0m\u001b[0mloc\u001b[0m\u001b[0;34m]\u001b[0m\u001b[0;34m\u001b[0m\u001b[0;34m\u001b[0m\u001b[0m\n\u001b[1;32m   3863\u001b[0m         \u001b[0;32melse\u001b[0m\u001b[0;34m:\u001b[0m\u001b[0;34m\u001b[0m\u001b[0;34m\u001b[0m\u001b[0m\n\u001b[0;32m-> 3864\u001b[0;31m             \u001b[0mloc\u001b[0m \u001b[0;34m=\u001b[0m \u001b[0mindex\u001b[0m\u001b[0;34m.\u001b[0m\u001b[0mget_loc\u001b[0m\u001b[0;34m(\u001b[0m\u001b[0mkey\u001b[0m\u001b[0;34m)\u001b[0m\u001b[0;34m\u001b[0m\u001b[0;34m\u001b[0m\u001b[0m\n\u001b[0m\u001b[1;32m   3865\u001b[0m \u001b[0;34m\u001b[0m\u001b[0m\n\u001b[1;32m   3866\u001b[0m             \u001b[0;32mif\u001b[0m \u001b[0misinstance\u001b[0m\u001b[0;34m(\u001b[0m\u001b[0mloc\u001b[0m\u001b[0;34m,\u001b[0m \u001b[0mnp\u001b[0m\u001b[0;34m.\u001b[0m\u001b[0mndarray\u001b[0m\u001b[0;34m)\u001b[0m\u001b[0;34m:\u001b[0m\u001b[0;34m\u001b[0m\u001b[0;34m\u001b[0m\u001b[0m\n",
      "\u001b[0;32m~/anaconda3/lib/python3.9/site-packages/pandas/core/indexes/base.py\u001b[0m in \u001b[0;36mget_loc\u001b[0;34m(self, key, method, tolerance)\u001b[0m\n\u001b[1;32m   3629\u001b[0m                 \u001b[0;32mreturn\u001b[0m \u001b[0mself\u001b[0m\u001b[0;34m.\u001b[0m\u001b[0m_engine\u001b[0m\u001b[0;34m.\u001b[0m\u001b[0mget_loc\u001b[0m\u001b[0;34m(\u001b[0m\u001b[0mcasted_key\u001b[0m\u001b[0;34m)\u001b[0m\u001b[0;34m\u001b[0m\u001b[0;34m\u001b[0m\u001b[0m\n\u001b[1;32m   3630\u001b[0m             \u001b[0;32mexcept\u001b[0m \u001b[0mKeyError\u001b[0m \u001b[0;32mas\u001b[0m \u001b[0merr\u001b[0m\u001b[0;34m:\u001b[0m\u001b[0;34m\u001b[0m\u001b[0;34m\u001b[0m\u001b[0m\n\u001b[0;32m-> 3631\u001b[0;31m                 \u001b[0;32mraise\u001b[0m \u001b[0mKeyError\u001b[0m\u001b[0;34m(\u001b[0m\u001b[0mkey\u001b[0m\u001b[0;34m)\u001b[0m \u001b[0;32mfrom\u001b[0m \u001b[0merr\u001b[0m\u001b[0;34m\u001b[0m\u001b[0;34m\u001b[0m\u001b[0m\n\u001b[0m\u001b[1;32m   3632\u001b[0m             \u001b[0;32mexcept\u001b[0m \u001b[0mTypeError\u001b[0m\u001b[0;34m:\u001b[0m\u001b[0;34m\u001b[0m\u001b[0;34m\u001b[0m\u001b[0m\n\u001b[1;32m   3633\u001b[0m                 \u001b[0;31m# If we have a listlike key, _check_indexing_error will raise\u001b[0m\u001b[0;34m\u001b[0m\u001b[0;34m\u001b[0m\u001b[0m\n",
      "\u001b[0;31mKeyError\u001b[0m: 'ENSG00000291237'"
     ]
    }
   ],
   "source": [
    "### 1. iterate over hypothesis\n",
    "for hypothesis in hypotheses:\n",
    "    \n",
    "    print('working with {}'.format(hypothesis))\n",
    "    box = {}; predf = {}\n",
    "\n",
    "    ### 3. gather patients\n",
    "    elements = os.listdir(sleuth_folder)\n",
    "    working_elements = [element for element in elements if hypothesis in element]\n",
    "    number_of_patients = len(working_elements)\n",
    "\n",
    "    print(working_elements, len(working_elements))\n",
    "\n",
    "    ### 4. gather information\n",
    "\n",
    "    ## 4.1. get adjusted P values and log2FC\n",
    "    for working_element in working_elements:\n",
    "\n",
    "        ## 4.1. define reference and sample expression labels\n",
    "        patient = int(working_element.split('_')[2].split('.csv')[0])\n",
    "        ref_label = None; sam_label = None\n",
    "        ref_label = metadata[metadata['patient'] == patient].loc[hypothesis]['sampleA']\n",
    "        sam_label = metadata[metadata['patient'] == patient].loc[hypothesis]['sampleB']\n",
    "\n",
    "        ## 4.2. get adjusted P values and log2FC\n",
    "        f = open(sleuth_folder + working_element, 'r')\n",
    "        print(sleuth_folder + working_element)\n",
    "        next(f)\n",
    "        for line in f:\n",
    "            v = line.split(',')\n",
    "            ensembl = v[1].replace('\"', '')\n",
    "            pvalue = float(v[-2].replace('\"', ''))\n",
    "            qvalue = float(v[-1].replace('\"', ''))\n",
    "#             print(v)\n",
    "#             print(ensembl)\n",
    "#             print(pvalue)\n",
    "#             print(qvalue)\n",
    "#             asdf\n",
    "\n",
    "            if ensembl not in box:\n",
    "                box[ensembl]=[[pvalue], [qvalue], [], [], []]\n",
    "            else:\n",
    "                box[ensembl][0].append(pvalue); box[ensembl][1].append(qvalue)   \n",
    "\n",
    "            ### 4.3. get reference and sample expression   \n",
    "            tpm_ref = expression[ref_label].loc[ensembl]\n",
    "            tpm_sam = expression[sam_label].loc[ensembl]\n",
    "\n",
    "            num = numpy.around(tpm_sam) + 1\n",
    "            den = numpy.around(tpm_ref) + 1\n",
    "            fc = num/den\n",
    "            abs_discrete_log2FC = numpy.abs(numpy.log2(fc))\n",
    "\n",
    "            box[ensembl][2].append(tpm_ref)\n",
    "            box[ensembl][3].append(tpm_sam)\n",
    "            box[ensembl][4].append(abs_discrete_log2FC)\n",
    "\n",
    "        # late file closure\n",
    "        f.close()\n",
    "\n",
    "    ### 5. perform filters\n",
    "    calls = len(box.keys())\n",
    "    consistency_filter_count = 0\n",
    "    low_expression_filter_count = 0\n",
    "    discrete_filter_count = 0\n",
    "    noise_filter_count = 0\n",
    "\n",
    "    for gene in box:\n",
    "\n",
    "        selected = True\n",
    "\n",
    "        ## F1 | consistency across patients, DEG called at least n - 1\n",
    "        if len(box[gene][0]) < number_of_patients - 1:\n",
    "            selected = False\n",
    "            consistency_filter_count = consistency_filter_count + 1\n",
    "\n",
    "        ## F2 | filter on low expression\n",
    "        if selected == True:\n",
    "            a = numpy.median(box[gene][2])\n",
    "            b = numpy.median(box[gene][3])\n",
    "            top = numpy.max([a, b])\n",
    "            if top < expression_threshold:\n",
    "                selected = False\n",
    "                low_expression_filter_count = low_expression_filter_count + 1\n",
    "\n",
    "        ## F3 | filter on abs discrete log2 FC\n",
    "        if selected == True:\n",
    "            if numpy.median(box[gene][4]) < discrete_fc_threshold:\n",
    "                selected = False\n",
    "                discrete_filter_count = discrete_filter_count + 1\n",
    "\n",
    "        ## F4 | filter on noise \n",
    "        if selected == True:\n",
    "\n",
    "            a = box[gene][2]; b = box[gene][3]\n",
    "            a = numpy.around(a); b = numpy.around(b)\n",
    "\n",
    "            if numpy.mean(a) > 2:\n",
    "                sem_ref = numpy.std(a) / numpy.sqrt(len(a))\n",
    "                rsem_ref = sem_ref / numpy.mean(a)\n",
    "            else:\n",
    "                rsem_ref = 0\n",
    "\n",
    "            if numpy.mean(b) > 2:\n",
    "                sem_sam = numpy.std(b) / numpy.sqrt(len(b))\n",
    "                rsem_sam = sem_sam / numpy.mean(b)\n",
    "            else:\n",
    "                rsem_sam = 0\n",
    "\n",
    "            noise = numpy.max([rsem_ref, rsem_sam])\n",
    "\n",
    "            if noise > noise_threshold:\n",
    "                selected = False\n",
    "                noise_filter_count = noise_filter_count + 1 \n",
    "                print('\\t', 'WARNING: removing due to noise {}'.format(noise))\n",
    "                print('\\t', gene, annotation.loc[gene, 'Gene name'], annotation.loc[gene, 'Gene description'])\n",
    "                print('\\t', 'ref', a, rsem_ref)\n",
    "                print('\\t', 'sam', b, rsem_sam)\n",
    "                print()\n",
    "        ###\n",
    "        if selected == True:\n",
    "            predf[gene] = []\n",
    "            predf[gene].append(numpy.median(box[gene][0])) # pvalue\n",
    "            predf[gene].append(numpy.median(box[gene][1])) # qvalue\n",
    "            predf[gene].append(numpy.median(box[gene][2])) # ref\n",
    "            predf[gene].append(numpy.median(box[gene][3])) # sam\n",
    "            predf[gene].append(numpy.median(box[gene][4])) # abs discrete log2FC                  \n",
    "\n",
    "    ### final print        \n",
    "    print('DEGs union across patients \\t {}'.format(calls))\n",
    "    print('working set after n - 1 consistency \\t {}'.format(calls-consistency_filter_count))\n",
    "    print('working set after low-expression filter \\t {}'.format(calls-consistency_filter_count-low_expression_filter_count))\n",
    "    print('working set after discrete FC filter \\t {}'.format(calls-consistency_filter_count-low_expression_filter_count-discrete_filter_count))\n",
    "    print('working set after noise filter \\t {}'.format(calls-consistency_filter_count-low_expression_filter_count-discrete_filter_count-noise_filter_count))\n",
    "\n",
    "    ### generate a dataframe and store\n",
    "    outputfile = output_dir + 'filtered_' + hypothesis + '_' + trend + '.tsv'\n",
    "\n",
    "    df = pandas.DataFrame.from_dict(predf)\n",
    "    dft = df.transpose()\n",
    "    dft.index.name = 'ENSEMBL'\n",
    "    dft.columns = ['P value', 'Q value', 'Reference expression (TPM)', 'Sample expression (TPM)', 'Discrete abs(log2FC)']\n",
    "    dft.sort_values(by='Discrete abs(log2FC)', axis=0, inplace=True, ascending=False)\n",
    "    print(dft.shape)\n",
    "\n",
    "    fdf = pandas.merge(dft, annotation.loc[dft.index, ], left_index=True, right_index=True)\n",
    "    fdf['Gene description'] = fdf['Gene description'].str.split(' \\[Source').str.get(0)\n",
    "    fdf = fdf[['NCBI gene (formerly Entrezgene) ID', 'Gene type', 'Gene name', 'Gene description', 'P value', 'Q value', 'Reference expression (TPM)', 'Sample expression (TPM)', 'Discrete abs(log2FC)']]\n",
    "    print('about to store a dataframe of shape {}'.format(fdf.shape))\n",
    "\n",
    "    fdf.to_csv(outputfile)\n",
    "\n",
    "    print('--------------------------------------')"
   ]
  },
  {
   "cell_type": "code",
   "execution_count": 11,
   "id": "2429731b",
   "metadata": {},
   "outputs": [
    {
     "data": {
      "text/html": [
       "<div>\n",
       "<style scoped>\n",
       "    .dataframe tbody tr th:only-of-type {\n",
       "        vertical-align: middle;\n",
       "    }\n",
       "\n",
       "    .dataframe tbody tr th {\n",
       "        vertical-align: top;\n",
       "    }\n",
       "\n",
       "    .dataframe thead th {\n",
       "        text-align: right;\n",
       "    }\n",
       "</style>\n",
       "<table border=\"1\" class=\"dataframe\">\n",
       "  <thead>\n",
       "    <tr style=\"text-align: right;\">\n",
       "      <th></th>\n",
       "    </tr>\n",
       "    <tr>\n",
       "      <th>ENSEMBL</th>\n",
       "    </tr>\n",
       "  </thead>\n",
       "  <tbody>\n",
       "  </tbody>\n",
       "</table>\n",
       "</div>"
      ],
      "text/plain": [
       "Empty DataFrame\n",
       "Columns: []\n",
       "Index: []"
      ]
     },
     "execution_count": 11,
     "metadata": {},
     "output_type": "execute_result"
    }
   ],
   "source": [
    "dft\n",
    "\n"
   ]
  }
 ],
 "metadata": {
  "kernelspec": {
   "display_name": "Python 3 (ipykernel)",
   "language": "python",
   "name": "python3"
  },
  "language_info": {
   "codemirror_mode": {
    "name": "ipython",
    "version": 3
   },
   "file_extension": ".py",
   "mimetype": "text/x-python",
   "name": "python",
   "nbconvert_exporter": "python",
   "pygments_lexer": "ipython3",
   "version": "3.9.13"
  }
 },
 "nbformat": 4,
 "nbformat_minor": 5
}
