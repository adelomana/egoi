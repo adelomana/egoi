{
 "cells": [
  {
   "cell_type": "markdown",
   "id": "4bf108a1",
   "metadata": {},
   "source": [
    "# info"
   ]
  },
  {
   "cell_type": "markdown",
   "id": "2610ac79",
   "metadata": {},
   "source": [
    "This script will generate a heatmap of hypoteses A, B and E.\n",
    "\n",
    "This is due to the following contrasts:\n",
    "* Hypothesis A: laminar over static\n",
    "* Hypothesis B is oscillatory over laminar\n",
    "* Hypothesis C i osicllatory Pi over laminar Pi\n",
    "* Hypothesis D is laminar Pi over laminar no Pi\n",
    "* Hypothesis E is oscillatory Pi over oscillatory no Pi"
   ]
  },
  {
   "cell_type": "code",
   "execution_count": 1,
   "id": "8ebeaf11",
   "metadata": {},
   "outputs": [],
   "source": [
    "import os, pandas, numpy, seaborn\n",
    "import scipy, scipy.stats"
   ]
  },
  {
   "cell_type": "code",
   "execution_count": 2,
   "id": "88108e73",
   "metadata": {},
   "outputs": [],
   "source": [
    "import matplotlib, matplotlib.pyplot\n",
    "matplotlib.rcParams.update({'font.size':20, 'font.family':'sans-serif', 'xtick.labelsize':20, 'ytick.labelsize':20, 'figure.figsize':(16, 9)})"
   ]
  },
  {
   "cell_type": "markdown",
   "id": "e02812c6",
   "metadata": {},
   "source": [
    "# 0. user-defined variables"
   ]
  },
  {
   "cell_type": "code",
   "execution_count": 3,
   "id": "e5904478",
   "metadata": {},
   "outputs": [],
   "source": [
    "DEG_called_folder = '/Users/adrian/gd15/tmp/hegoi_tempo/sleuth/'\n",
    "expression_file = '/Users/adrian/gd15/tmp/hegoi_tempo/DESeq2_TPM_values.tsv'\n",
    "metadata_file = '/Users/adrian/gd15/tmp/hegoi_tempo/metadata/hegoi metadata - hypotheses formatted for filter.tsv'"
   ]
  },
  {
   "cell_type": "code",
   "execution_count": 4,
   "id": "9ed5422f",
   "metadata": {},
   "outputs": [],
   "source": [
    "DEG_called_folder = '/home/adrian/projects/hegoi/results/subsamples/sleuth/'\n",
    "expression_file = '/home/adrian/projects/hegoi/results/tpm/DESeq2_TPM_values.tsv'\n",
    "metadata_file = '/home/adrian/projects/hegoi/metadata/hegoi metadata - hypotheses formatted for filter.tsv'"
   ]
  },
  {
   "cell_type": "code",
   "execution_count": 5,
   "id": "9a108be0",
   "metadata": {},
   "outputs": [],
   "source": [
    "working_hypotheses = ['A', 'B', 'E']"
   ]
  },
  {
   "cell_type": "markdown",
   "id": "e10099bc",
   "metadata": {},
   "source": [
    "# 1. read data"
   ]
  },
  {
   "cell_type": "markdown",
   "id": "ed3a89a3",
   "metadata": {},
   "source": [
    "## 1.1. read DEGs"
   ]
  },
  {
   "cell_type": "code",
   "execution_count": 6,
   "id": "4710f803",
   "metadata": {},
   "outputs": [],
   "source": [
    "file_names = os.listdir(DEG_called_folder)\n",
    "file_names.remove('messages.txt')\n",
    "file_names.sort()\n",
    "\n",
    "degs = {}\n",
    "for file_name in file_names:\n",
    "    label = file_name.split('.csv')[0]\n",
    "    df = pandas.read_csv(DEG_called_folder+file_name, index_col='target_id')\n",
    "    ensembls = df.index.to_list()\n",
    "    degs[label] = ensembls"
   ]
  },
  {
   "cell_type": "markdown",
   "id": "bce1beed",
   "metadata": {},
   "source": [
    "## 1.2. read expression"
   ]
  },
  {
   "cell_type": "code",
   "execution_count": 7,
   "id": "253101c8",
   "metadata": {},
   "outputs": [
    {
     "name": "stdout",
     "output_type": "stream",
     "text": [
      "(40320, 26)\n"
     ]
    },
    {
     "data": {
      "text/html": [
       "<div>\n",
       "<style scoped>\n",
       "    .dataframe tbody tr th:only-of-type {\n",
       "        vertical-align: middle;\n",
       "    }\n",
       "\n",
       "    .dataframe tbody tr th {\n",
       "        vertical-align: top;\n",
       "    }\n",
       "\n",
       "    .dataframe thead th {\n",
       "        text-align: right;\n",
       "    }\n",
       "</style>\n",
       "<table border=\"1\" class=\"dataframe\">\n",
       "  <thead>\n",
       "    <tr style=\"text-align: right;\">\n",
       "      <th></th>\n",
       "      <th>Lam153</th>\n",
       "      <th>Lami154</th>\n",
       "      <th>Lami46</th>\n",
       "      <th>Lami94</th>\n",
       "      <th>LamiP109</th>\n",
       "      <th>LamiP153</th>\n",
       "      <th>LamiP154</th>\n",
       "      <th>LamiP176</th>\n",
       "      <th>LamiPi46</th>\n",
       "      <th>LamiPi94</th>\n",
       "      <th>...</th>\n",
       "      <th>OsciP154</th>\n",
       "      <th>OsciP175</th>\n",
       "      <th>OsciP178</th>\n",
       "      <th>OsciPi46</th>\n",
       "      <th>Stat109</th>\n",
       "      <th>Stat153</th>\n",
       "      <th>Stat154</th>\n",
       "      <th>Stat176</th>\n",
       "      <th>Stat46</th>\n",
       "      <th>Stat94</th>\n",
       "    </tr>\n",
       "  </thead>\n",
       "  <tbody>\n",
       "    <tr>\n",
       "      <th>ENSG00000000003</th>\n",
       "      <td>24.240953</td>\n",
       "      <td>20.242011</td>\n",
       "      <td>22.919919</td>\n",
       "      <td>15.438227</td>\n",
       "      <td>18.098457</td>\n",
       "      <td>29.000777</td>\n",
       "      <td>14.784503</td>\n",
       "      <td>11.903633</td>\n",
       "      <td>26.217884</td>\n",
       "      <td>18.455471</td>\n",
       "      <td>...</td>\n",
       "      <td>38.756393</td>\n",
       "      <td>15.976121</td>\n",
       "      <td>21.649331</td>\n",
       "      <td>28.426877</td>\n",
       "      <td>29.688663</td>\n",
       "      <td>29.207002</td>\n",
       "      <td>28.989493</td>\n",
       "      <td>28.832380</td>\n",
       "      <td>34.600089</td>\n",
       "      <td>27.971771</td>\n",
       "    </tr>\n",
       "    <tr>\n",
       "      <th>ENSG00000000005</th>\n",
       "      <td>0.062960</td>\n",
       "      <td>0.000000</td>\n",
       "      <td>0.000000</td>\n",
       "      <td>0.000000</td>\n",
       "      <td>0.000000</td>\n",
       "      <td>0.000000</td>\n",
       "      <td>0.000000</td>\n",
       "      <td>0.000000</td>\n",
       "      <td>0.000000</td>\n",
       "      <td>0.000000</td>\n",
       "      <td>...</td>\n",
       "      <td>0.000000</td>\n",
       "      <td>0.000000</td>\n",
       "      <td>0.000000</td>\n",
       "      <td>0.000000</td>\n",
       "      <td>0.000000</td>\n",
       "      <td>0.000000</td>\n",
       "      <td>0.000000</td>\n",
       "      <td>0.013958</td>\n",
       "      <td>0.000000</td>\n",
       "      <td>0.139231</td>\n",
       "    </tr>\n",
       "    <tr>\n",
       "      <th>ENSG00000000419</th>\n",
       "      <td>59.982918</td>\n",
       "      <td>62.984443</td>\n",
       "      <td>120.871295</td>\n",
       "      <td>138.059565</td>\n",
       "      <td>115.707396</td>\n",
       "      <td>84.892000</td>\n",
       "      <td>172.643218</td>\n",
       "      <td>147.901176</td>\n",
       "      <td>145.183145</td>\n",
       "      <td>135.750959</td>\n",
       "      <td>...</td>\n",
       "      <td>98.473591</td>\n",
       "      <td>161.024012</td>\n",
       "      <td>86.023654</td>\n",
       "      <td>115.321222</td>\n",
       "      <td>64.464680</td>\n",
       "      <td>81.686544</td>\n",
       "      <td>84.388415</td>\n",
       "      <td>88.740844</td>\n",
       "      <td>81.992995</td>\n",
       "      <td>97.987628</td>\n",
       "    </tr>\n",
       "    <tr>\n",
       "      <th>ENSG00000000457</th>\n",
       "      <td>4.680221</td>\n",
       "      <td>3.684855</td>\n",
       "      <td>1.989328</td>\n",
       "      <td>3.244174</td>\n",
       "      <td>4.417648</td>\n",
       "      <td>2.189278</td>\n",
       "      <td>6.217483</td>\n",
       "      <td>3.998143</td>\n",
       "      <td>4.786793</td>\n",
       "      <td>2.949599</td>\n",
       "      <td>...</td>\n",
       "      <td>3.012943</td>\n",
       "      <td>1.024624</td>\n",
       "      <td>2.255165</td>\n",
       "      <td>2.967113</td>\n",
       "      <td>1.825466</td>\n",
       "      <td>2.371161</td>\n",
       "      <td>3.513856</td>\n",
       "      <td>2.617785</td>\n",
       "      <td>2.546863</td>\n",
       "      <td>2.668982</td>\n",
       "    </tr>\n",
       "    <tr>\n",
       "      <th>ENSG00000000460</th>\n",
       "      <td>1.982690</td>\n",
       "      <td>1.344508</td>\n",
       "      <td>1.422365</td>\n",
       "      <td>1.667403</td>\n",
       "      <td>0.570064</td>\n",
       "      <td>2.856698</td>\n",
       "      <td>0.416009</td>\n",
       "      <td>0.000000</td>\n",
       "      <td>1.310974</td>\n",
       "      <td>1.812507</td>\n",
       "      <td>...</td>\n",
       "      <td>5.510741</td>\n",
       "      <td>3.805323</td>\n",
       "      <td>1.489214</td>\n",
       "      <td>0.957885</td>\n",
       "      <td>4.467578</td>\n",
       "      <td>5.425887</td>\n",
       "      <td>7.680067</td>\n",
       "      <td>4.002537</td>\n",
       "      <td>3.650609</td>\n",
       "      <td>4.056977</td>\n",
       "    </tr>\n",
       "  </tbody>\n",
       "</table>\n",
       "<p>5 rows × 26 columns</p>\n",
       "</div>"
      ],
      "text/plain": [
       "                    Lam153    Lami154      Lami46      Lami94    LamiP109  \\\n",
       "ENSG00000000003  24.240953  20.242011   22.919919   15.438227   18.098457   \n",
       "ENSG00000000005   0.062960   0.000000    0.000000    0.000000    0.000000   \n",
       "ENSG00000000419  59.982918  62.984443  120.871295  138.059565  115.707396   \n",
       "ENSG00000000457   4.680221   3.684855    1.989328    3.244174    4.417648   \n",
       "ENSG00000000460   1.982690   1.344508    1.422365    1.667403    0.570064   \n",
       "\n",
       "                  LamiP153    LamiP154    LamiP176    LamiPi46    LamiPi94  \\\n",
       "ENSG00000000003  29.000777   14.784503   11.903633   26.217884   18.455471   \n",
       "ENSG00000000005   0.000000    0.000000    0.000000    0.000000    0.000000   \n",
       "ENSG00000000419  84.892000  172.643218  147.901176  145.183145  135.750959   \n",
       "ENSG00000000457   2.189278    6.217483    3.998143    4.786793    2.949599   \n",
       "ENSG00000000460   2.856698    0.416009    0.000000    1.310974    1.812507   \n",
       "\n",
       "                 ...   OsciP154    OsciP175   OsciP178    OsciPi46    Stat109  \\\n",
       "ENSG00000000003  ...  38.756393   15.976121  21.649331   28.426877  29.688663   \n",
       "ENSG00000000005  ...   0.000000    0.000000   0.000000    0.000000   0.000000   \n",
       "ENSG00000000419  ...  98.473591  161.024012  86.023654  115.321222  64.464680   \n",
       "ENSG00000000457  ...   3.012943    1.024624   2.255165    2.967113   1.825466   \n",
       "ENSG00000000460  ...   5.510741    3.805323   1.489214    0.957885   4.467578   \n",
       "\n",
       "                   Stat153    Stat154    Stat176     Stat46     Stat94  \n",
       "ENSG00000000003  29.207002  28.989493  28.832380  34.600089  27.971771  \n",
       "ENSG00000000005   0.000000   0.000000   0.013958   0.000000   0.139231  \n",
       "ENSG00000000419  81.686544  84.388415  88.740844  81.992995  97.987628  \n",
       "ENSG00000000457   2.371161   3.513856   2.617785   2.546863   2.668982  \n",
       "ENSG00000000460   5.425887   7.680067   4.002537   3.650609   4.056977  \n",
       "\n",
       "[5 rows x 26 columns]"
      ]
     },
     "execution_count": 7,
     "metadata": {},
     "output_type": "execute_result"
    }
   ],
   "source": [
    "expression = pandas.read_csv(expression_file, sep='\\t', index_col=0)\n",
    "print(expression.shape)\n",
    "expression.head()"
   ]
  },
  {
   "cell_type": "markdown",
   "id": "8d7bb602",
   "metadata": {},
   "source": [
    "## 1.3. read metadata"
   ]
  },
  {
   "cell_type": "code",
   "execution_count": 8,
   "id": "03638271",
   "metadata": {},
   "outputs": [
    {
     "data": {
      "text/html": [
       "<div>\n",
       "<style scoped>\n",
       "    .dataframe tbody tr th:only-of-type {\n",
       "        vertical-align: middle;\n",
       "    }\n",
       "\n",
       "    .dataframe tbody tr th {\n",
       "        vertical-align: top;\n",
       "    }\n",
       "\n",
       "    .dataframe thead th {\n",
       "        text-align: right;\n",
       "    }\n",
       "</style>\n",
       "<table border=\"1\" class=\"dataframe\">\n",
       "  <thead>\n",
       "    <tr style=\"text-align: right;\">\n",
       "      <th></th>\n",
       "      <th>hypothesis</th>\n",
       "      <th>patient</th>\n",
       "      <th>sampleA</th>\n",
       "      <th>sampleB</th>\n",
       "    </tr>\n",
       "  </thead>\n",
       "  <tbody>\n",
       "    <tr>\n",
       "      <th>0</th>\n",
       "      <td>hypothesis_A</td>\n",
       "      <td>46</td>\n",
       "      <td>Stat46</td>\n",
       "      <td>Lami46</td>\n",
       "    </tr>\n",
       "    <tr>\n",
       "      <th>1</th>\n",
       "      <td>hypothesis_A</td>\n",
       "      <td>153</td>\n",
       "      <td>Stat153</td>\n",
       "      <td>Lam153</td>\n",
       "    </tr>\n",
       "    <tr>\n",
       "      <th>2</th>\n",
       "      <td>hypothesis_A</td>\n",
       "      <td>154</td>\n",
       "      <td>Stat154</td>\n",
       "      <td>Lami154</td>\n",
       "    </tr>\n",
       "    <tr>\n",
       "      <th>3</th>\n",
       "      <td>hypothesis_A</td>\n",
       "      <td>94</td>\n",
       "      <td>Stat94</td>\n",
       "      <td>Lami94</td>\n",
       "    </tr>\n",
       "    <tr>\n",
       "      <th>4</th>\n",
       "      <td>hypothesis_B</td>\n",
       "      <td>46</td>\n",
       "      <td>Lami46</td>\n",
       "      <td>Osci46</td>\n",
       "    </tr>\n",
       "    <tr>\n",
       "      <th>5</th>\n",
       "      <td>hypothesis_B</td>\n",
       "      <td>153</td>\n",
       "      <td>Lam153</td>\n",
       "      <td>Osci153</td>\n",
       "    </tr>\n",
       "    <tr>\n",
       "      <th>6</th>\n",
       "      <td>hypothesis_B</td>\n",
       "      <td>154</td>\n",
       "      <td>Lami154</td>\n",
       "      <td>Osci154</td>\n",
       "    </tr>\n",
       "    <tr>\n",
       "      <th>15</th>\n",
       "      <td>hypothesis_E</td>\n",
       "      <td>46</td>\n",
       "      <td>Osci46</td>\n",
       "      <td>OsciPi46</td>\n",
       "    </tr>\n",
       "    <tr>\n",
       "      <th>16</th>\n",
       "      <td>hypothesis_E</td>\n",
       "      <td>109</td>\n",
       "      <td>Osci109</td>\n",
       "      <td>OsciP109</td>\n",
       "    </tr>\n",
       "    <tr>\n",
       "      <th>17</th>\n",
       "      <td>hypothesis_E</td>\n",
       "      <td>153</td>\n",
       "      <td>Osci153</td>\n",
       "      <td>OsciP153</td>\n",
       "    </tr>\n",
       "    <tr>\n",
       "      <th>18</th>\n",
       "      <td>hypothesis_E</td>\n",
       "      <td>154</td>\n",
       "      <td>Osci154</td>\n",
       "      <td>OsciP154</td>\n",
       "    </tr>\n",
       "  </tbody>\n",
       "</table>\n",
       "</div>"
      ],
      "text/plain": [
       "      hypothesis  patient  sampleA   sampleB\n",
       "0   hypothesis_A       46   Stat46    Lami46\n",
       "1   hypothesis_A      153  Stat153    Lam153\n",
       "2   hypothesis_A      154  Stat154   Lami154\n",
       "3   hypothesis_A       94   Stat94    Lami94\n",
       "4   hypothesis_B       46   Lami46    Osci46\n",
       "5   hypothesis_B      153   Lam153   Osci153\n",
       "6   hypothesis_B      154  Lami154   Osci154\n",
       "15  hypothesis_E       46   Osci46  OsciPi46\n",
       "16  hypothesis_E      109  Osci109  OsciP109\n",
       "17  hypothesis_E      153  Osci153  OsciP153\n",
       "18  hypothesis_E      154  Osci154  OsciP154"
      ]
     },
     "execution_count": 8,
     "metadata": {},
     "output_type": "execute_result"
    }
   ],
   "source": [
    "metadata = pandas.read_csv(metadata_file, sep='\\t')\n",
    "metadata = metadata[(metadata['hypothesis'] == 'hypothesis_A') | (metadata['hypothesis'] == 'hypothesis_B') | (metadata['hypothesis'] == 'hypothesis_E')]\n",
    "metadata"
   ]
  },
  {
   "cell_type": "code",
   "execution_count": 9,
   "id": "464a25f1",
   "metadata": {},
   "outputs": [
    {
     "name": "stdout",
     "output_type": "stream",
     "text": [
      "['OsciP153', 'Lami94', 'Stat46', 'Stat154', 'Stat153', 'Lam153', 'OsciP109', 'Osci46', 'OsciP154', 'Osci109', 'Lami154', 'Lami46', 'Osci154', 'Osci153', 'Stat94', 'OsciPi46']\n"
     ]
    }
   ],
   "source": [
    "samples = []\n",
    "for working_hypothesis in working_hypotheses:\n",
    "    label = 'hypothesis_{}'.format(working_hypothesis)\n",
    "    \n",
    "    sub = metadata[metadata['hypothesis'] == label]\n",
    "    \n",
    "    samplesA = sub['sampleA'].to_list()\n",
    "    samplesB = sub['sampleB'].to_list()\n",
    "    both = samplesA + samplesB\n",
    "    \n",
    "    for element in both:\n",
    "        samples.append(element)\n",
    "    \n",
    "working_samples = list(set(samples))\n",
    "print(working_samples)"
   ]
  },
  {
   "cell_type": "markdown",
   "id": "364e41d9",
   "metadata": {},
   "source": [
    "# 2. select response genes"
   ]
  },
  {
   "cell_type": "markdown",
   "id": "f394d618",
   "metadata": {},
   "source": [
    "Response genes should pass the log2FC > 1 and have P < 0.05 for at least n-1 samples."
   ]
  },
  {
   "cell_type": "code",
   "execution_count": 10,
   "id": "15d447a9",
   "metadata": {},
   "outputs": [],
   "source": [
    "def response_gene_finder(ensembl, hypo, patient):\n",
    "    \n",
    "    success = True; trend = None\n",
    "    \n",
    "    # filter 1 --- called by sleuth\n",
    "    label = '{}_{}'.format(hypo_label, patient)\n",
    "    if ensembl not in degs[label]:\n",
    "        success = False\n",
    "        \n",
    "    # filter 2 --- abs log2FC > 1 and max. expr. > 1\n",
    "    if success == True:\n",
    "        labela = metadata[(metadata['hypothesis'] == hypo_label) & (metadata['patient'] == patient)]['sampleA'].values[0]\n",
    "        labelb = metadata[(metadata['hypothesis'] == hypo_label) & (metadata['patient'] == patient)]['sampleB'].values[0]\n",
    "        expr_num = expression.loc[ensembl, labelb]; expr_den = expression.loc[ensembl, labela]\n",
    "        log2FC = numpy.log2((expr_num+1)/(expr_den+1))\n",
    "        abs_log2FC = numpy.abs(log2FC)\n",
    "        top = numpy.max([expr_num, expr_den])\n",
    "        if abs_log2FC < 1 or top < 2:\n",
    "            success = False\n",
    "    \n",
    "    # necessary for filter 3 --- assign a trend if success\n",
    "    if success == True:\n",
    "        if log2FC > 0:\n",
    "            trend = 'up'\n",
    "        elif log2FC < 0:\n",
    "            trend = 'down'\n",
    "            \n",
    "    return success, trend"
   ]
  },
  {
   "cell_type": "code",
   "execution_count": null,
   "id": "6edb67ff",
   "metadata": {
    "scrolled": false
   },
   "outputs": [],
   "source": [
    "%%time\n",
    "all_response_genes = []\n",
    "for hypo in working_hypotheses:\n",
    "    print('working with hypothesis {}'.format(hypo))\n",
    "    hypo_label = 'hypothesis_{}'.format(hypo)\n",
    "    \n",
    "    sub = metadata[metadata['hypothesis'] == hypo_label]\n",
    "    patients = sub['patient']\n",
    "    patients = [46, 153, 154]\n",
    "    \n",
    "    response_genes = []; up = []; down = []\n",
    "    ### iterate each gene\n",
    "    print('about to iterate genes')\n",
    "    for ensembl in expression.index:\n",
    "        \n",
    "        ### iterate over patients to see if filters are passed in n - 1 patients\n",
    "        successes = []; trends = []\n",
    "        for patient in patients:\n",
    "            success, trend = response_gene_finder(ensembl, hypo, patient)\n",
    "            successes.append(success); trends.append(trend)\n",
    "        if sum(successes) >= len(patients):\n",
    "            if trends.count('up') >= len(patients):\n",
    "                up.append(ensembl)\n",
    "                response_genes.append(ensembl)\n",
    "            if trends.count('down') >= len(patients):\n",
    "                down.append(ensembl)\n",
    "                response_genes.append(ensembl)\n",
    "    \n",
    "    # number of genes identified\n",
    "    print('{} response genes detected'.format(len(response_genes)))\n",
    "    print('up and down regulated genes: {} {}'.format(len(up), len(down)))\n",
    "    print()\n",
    "    all_response_genes.append(set(response_genes))\n",
    "\n",
    "# define the set of responding genes over all hypotheses\n",
    "\n",
    "all_response_genes = list(set().union(*all_response_genes))\n",
    "print('overall, {} response genes detected'.format(len(all_response_genes)))"
   ]
  },
  {
   "cell_type": "markdown",
   "id": "89ea6598",
   "metadata": {},
   "source": [
    "# 3. build the heatmap"
   ]
  },
  {
   "cell_type": "markdown",
   "id": "081c3b60",
   "metadata": {},
   "source": [
    "Patients 94 and 109 are excluded to calculate a consistent z-score"
   ]
  },
  {
   "cell_type": "code",
   "execution_count": null,
   "id": "a930ec5b",
   "metadata": {},
   "outputs": [],
   "source": [
    "strict_metadata = metadata.drop(index=[3, 16])\n",
    "strict_metadata"
   ]
  },
  {
   "cell_type": "code",
   "execution_count": null,
   "id": "26b027f3",
   "metadata": {},
   "outputs": [],
   "source": [
    "a = set(strict_metadata['sampleA'])\n",
    "b = set(strict_metadata['sampleB'])\n",
    "c = list(a.union(b))\n",
    "c.sort()\n",
    "print(c, len(c))"
   ]
  },
  {
   "cell_type": "code",
   "execution_count": null,
   "id": "89db095e",
   "metadata": {},
   "outputs": [],
   "source": [
    "response_expression = expression.loc[all_response_genes, c]\n",
    "\n",
    "print(response_expression.shape)\n",
    "response_expression.head()"
   ]
  },
  {
   "cell_type": "code",
   "execution_count": null,
   "id": "4a55e04a",
   "metadata": {},
   "outputs": [],
   "source": [
    "# compute z-score for vmin and vmax purposes\n",
    "zscore_df = scipy.stats.zscore(response_expression, axis=1)\n",
    "\n",
    "top = numpy.max(numpy.max(zscore_df, axis=1))\n",
    "bottom = numpy.min(numpy.min(zscore_df, axis=1))\n",
    "\n",
    "print(top, bottom)\n",
    "b = 2\n",
    "\n",
    "colors = [(0, \"blue\"), (0.5-(1/(b*4)), \"white\"), (0.5+(1/(b*4)), \"white\"), (1, \"red\")]\n",
    "bwwr = matplotlib.colors.LinearSegmentedColormap.from_list(\"bwwr\", colors)"
   ]
  },
  {
   "cell_type": "code",
   "execution_count": null,
   "id": "7dfd504c",
   "metadata": {
    "scrolled": false
   },
   "outputs": [],
   "source": [
    "distance_metrics = ['cosine', 'euclidean', 'correlation', 'braycurtis', 'chebyshev', 'seuclidean', 'minkowski', 'sqeuclidean']\n",
    "linkage_methods = ['median', 'complete', 'single', 'average', 'ward', 'weighted', 'centroid']\n",
    "\n",
    "for linkage_method in linkage_methods:\n",
    "    for distance_metric in distance_metrics:\n",
    "        try:\n",
    "            seaborn.clustermap(response_expression, cmap=bwwr, z_score=0, metric=distance_metric, method=linkage_method, yticklabels=False, vmin=-b, vmax=b, cbar_kws={\"ticks\":[-2, -1, 0, 1, 2]})\n",
    "            matplotlib.pyplot.title('{} {}'.format(linkage_method, distance_metric))\n",
    "            matplotlib.pyplot.tight_layout()\n",
    "            matplotlib.pyplot.show()\n",
    "        except:\n",
    "            print('FAILED with metric {} and method {}'.format(distance_metric, linkage_method))"
   ]
  }
 ],
 "metadata": {
  "kernelspec": {
   "display_name": "Python 3",
   "language": "python",
   "name": "python3"
  },
  "language_info": {
   "codemirror_mode": {
    "name": "ipython",
    "version": 3
   },
   "file_extension": ".py",
   "mimetype": "text/x-python",
   "name": "python",
   "nbconvert_exporter": "python",
   "pygments_lexer": "ipython3",
   "version": "3.8.13"
  }
 },
 "nbformat": 4,
 "nbformat_minor": 5
}
