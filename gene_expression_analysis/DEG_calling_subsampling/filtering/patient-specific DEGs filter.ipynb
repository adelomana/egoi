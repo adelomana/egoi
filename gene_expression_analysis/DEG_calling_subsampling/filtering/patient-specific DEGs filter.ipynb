{
 "cells": [
  {
   "cell_type": "markdown",
   "id": "c9e02853",
   "metadata": {},
   "source": [
    "# info\n",
    "This script generates a file with filtered DEGs derived from patient-specific DEG calling."
   ]
  },
  {
   "cell_type": "markdown",
   "id": "fce7cc84",
   "metadata": {},
   "source": [
    "Filters are:\n",
    "1. Filter on P < 0.05 and Q < 0.1 for DESeq2; Q < 0.05 in sleuth.\n",
    "2. Filter out genes that in the comparison do not cross the 2 TPM barrier.\n",
    "3. Discrete abs log2 FC > 1\n",
    "\n",
    "First we identified the DEGs of a particular patient using aforementioned filters, the we define the coherent DEGs as those DEGs in n-1 patients."
   ]
  },
  {
   "cell_type": "code",
   "execution_count": 12,
   "id": "f1e61540",
   "metadata": {},
   "outputs": [],
   "source": [
    "import pandas, os"
   ]
  },
  {
   "cell_type": "markdown",
   "id": "9b29d125",
   "metadata": {},
   "source": [
    "# 0. user-defined variables"
   ]
  },
  {
   "cell_type": "code",
   "execution_count": 10,
   "id": "262af060",
   "metadata": {},
   "outputs": [],
   "source": [
    "hypotheses = ['A', 'B', 'C', 'D', 'E']"
   ]
  },
  {
   "cell_type": "code",
   "execution_count": 13,
   "id": "a70af446",
   "metadata": {},
   "outputs": [],
   "source": [
    "tpm_file = '/home/adrian/projects/hegoi/results/tpm/DESeq2_TPM_values.tsv'\n",
    "deseq2_folder = '/home/adrian/projects/hegoi/results/subsamples/DESeq2/'\n",
    "\n",
    "outputdir = '/home/adrian/projects/hegoi/results/subsamples/DEG_filtered/'"
   ]
  },
  {
   "cell_type": "markdown",
   "id": "6be307aa",
   "metadata": {},
   "source": [
    "# 1. read expression data"
   ]
  },
  {
   "cell_type": "code",
   "execution_count": 7,
   "id": "9f210abc",
   "metadata": {},
   "outputs": [],
   "source": [
    "def expression_reader():\n",
    "\n",
    "    expression = pandas.read_csv(tpm_file, sep='\\t', index_col=0)\n",
    "    sample_names = expression.columns.to_list()\n",
    "\n",
    "    return expression, sample_names"
   ]
  },
  {
   "cell_type": "code",
   "execution_count": 8,
   "id": "09950a7b",
   "metadata": {},
   "outputs": [],
   "source": [
    "expression, sample_names = expression_reader()"
   ]
  },
  {
   "cell_type": "markdown",
   "id": "a409f8c2",
   "metadata": {},
   "source": [
    "# 2. iterate over hypotheses and patients"
   ]
  },
  {
   "cell_type": "code",
   "execution_count": null,
   "id": "479c7035",
   "metadata": {},
   "outputs": [],
   "source": []
  },
  {
   "cell_type": "code",
   "execution_count": 15,
   "id": "3c6c84a1",
   "metadata": {},
   "outputs": [
    {
     "name": "stdout",
     "output_type": "stream",
     "text": [
      "working with hypothesis A...\n",
      "['hypothesis_E_154_up.tsv', 'hypothesis_C_46_down.tsv', 'messages.txt', 'hypothesis_B_154_up.tsv', 'hypothesis_E_109_up.tsv', 'hypothesis_B_46_down.tsv', 'hypothesis_A_154_up.tsv', 'hypothesis_D_153_up.tsv', 'hypothesis_A_154_down.tsv', 'hypothesis_A_46_up.tsv', 'hypothesis_C_154_down.tsv', 'hypothesis_A_94_up.tsv', 'hypothesis_E_46_down.tsv', 'hypothesis_B_46_up.tsv', 'hypothesis_A_153_up.tsv', 'unformatted', 'hypothesis_A_46_down.tsv', 'hypothesis_C_46_up.tsv', 'hypothesis_E_46_up.tsv', 'hypothesis_D_94_down.tsv', 'hypothesis_D_154_down.tsv', 'hypothesis_E_109_down.tsv', 'hypothesis_E_153_up.tsv', 'hypothesis_A_94_down.tsv', 'hypothesis_D_153_down.tsv', 'hypothesis_C_153_down.tsv', 'hypothesis_A_153_down.tsv', 'hypothesis_B_154_down.tsv', 'hypothesis_C_154_up.tsv', 'hypothesis_C_153_up.tsv', 'hypothesis_D_94_up.tsv', 'hypothesis_D_46_down.tsv', 'hypothesis_D_46_up.tsv', 'hypothesis_B_153_down.tsv', 'hypothesis_E_153_down.tsv', 'hypothesis_D_154_up.tsv', 'hypothesis_E_154_down.tsv', 'hypothesis_C_109_down.tsv', 'hypothesis_C_109_up.tsv', 'hypothesis_B_153_up.tsv']\n",
      "working with hypothesis B...\n",
      "['hypothesis_E_154_up.tsv', 'hypothesis_C_46_down.tsv', 'messages.txt', 'hypothesis_B_154_up.tsv', 'hypothesis_E_109_up.tsv', 'hypothesis_B_46_down.tsv', 'hypothesis_A_154_up.tsv', 'hypothesis_D_153_up.tsv', 'hypothesis_A_154_down.tsv', 'hypothesis_A_46_up.tsv', 'hypothesis_C_154_down.tsv', 'hypothesis_A_94_up.tsv', 'hypothesis_E_46_down.tsv', 'hypothesis_B_46_up.tsv', 'hypothesis_A_153_up.tsv', 'unformatted', 'hypothesis_A_46_down.tsv', 'hypothesis_C_46_up.tsv', 'hypothesis_E_46_up.tsv', 'hypothesis_D_94_down.tsv', 'hypothesis_D_154_down.tsv', 'hypothesis_E_109_down.tsv', 'hypothesis_E_153_up.tsv', 'hypothesis_A_94_down.tsv', 'hypothesis_D_153_down.tsv', 'hypothesis_C_153_down.tsv', 'hypothesis_A_153_down.tsv', 'hypothesis_B_154_down.tsv', 'hypothesis_C_154_up.tsv', 'hypothesis_C_153_up.tsv', 'hypothesis_D_94_up.tsv', 'hypothesis_D_46_down.tsv', 'hypothesis_D_46_up.tsv', 'hypothesis_B_153_down.tsv', 'hypothesis_E_153_down.tsv', 'hypothesis_D_154_up.tsv', 'hypothesis_E_154_down.tsv', 'hypothesis_C_109_down.tsv', 'hypothesis_C_109_up.tsv', 'hypothesis_B_153_up.tsv']\n",
      "working with hypothesis C...\n",
      "['hypothesis_E_154_up.tsv', 'hypothesis_C_46_down.tsv', 'messages.txt', 'hypothesis_B_154_up.tsv', 'hypothesis_E_109_up.tsv', 'hypothesis_B_46_down.tsv', 'hypothesis_A_154_up.tsv', 'hypothesis_D_153_up.tsv', 'hypothesis_A_154_down.tsv', 'hypothesis_A_46_up.tsv', 'hypothesis_C_154_down.tsv', 'hypothesis_A_94_up.tsv', 'hypothesis_E_46_down.tsv', 'hypothesis_B_46_up.tsv', 'hypothesis_A_153_up.tsv', 'unformatted', 'hypothesis_A_46_down.tsv', 'hypothesis_C_46_up.tsv', 'hypothesis_E_46_up.tsv', 'hypothesis_D_94_down.tsv', 'hypothesis_D_154_down.tsv', 'hypothesis_E_109_down.tsv', 'hypothesis_E_153_up.tsv', 'hypothesis_A_94_down.tsv', 'hypothesis_D_153_down.tsv', 'hypothesis_C_153_down.tsv', 'hypothesis_A_153_down.tsv', 'hypothesis_B_154_down.tsv', 'hypothesis_C_154_up.tsv', 'hypothesis_C_153_up.tsv', 'hypothesis_D_94_up.tsv', 'hypothesis_D_46_down.tsv', 'hypothesis_D_46_up.tsv', 'hypothesis_B_153_down.tsv', 'hypothesis_E_153_down.tsv', 'hypothesis_D_154_up.tsv', 'hypothesis_E_154_down.tsv', 'hypothesis_C_109_down.tsv', 'hypothesis_C_109_up.tsv', 'hypothesis_B_153_up.tsv']\n",
      "working with hypothesis D...\n",
      "['hypothesis_E_154_up.tsv', 'hypothesis_C_46_down.tsv', 'messages.txt', 'hypothesis_B_154_up.tsv', 'hypothesis_E_109_up.tsv', 'hypothesis_B_46_down.tsv', 'hypothesis_A_154_up.tsv', 'hypothesis_D_153_up.tsv', 'hypothesis_A_154_down.tsv', 'hypothesis_A_46_up.tsv', 'hypothesis_C_154_down.tsv', 'hypothesis_A_94_up.tsv', 'hypothesis_E_46_down.tsv', 'hypothesis_B_46_up.tsv', 'hypothesis_A_153_up.tsv', 'unformatted', 'hypothesis_A_46_down.tsv', 'hypothesis_C_46_up.tsv', 'hypothesis_E_46_up.tsv', 'hypothesis_D_94_down.tsv', 'hypothesis_D_154_down.tsv', 'hypothesis_E_109_down.tsv', 'hypothesis_E_153_up.tsv', 'hypothesis_A_94_down.tsv', 'hypothesis_D_153_down.tsv', 'hypothesis_C_153_down.tsv', 'hypothesis_A_153_down.tsv', 'hypothesis_B_154_down.tsv', 'hypothesis_C_154_up.tsv', 'hypothesis_C_153_up.tsv', 'hypothesis_D_94_up.tsv', 'hypothesis_D_46_down.tsv', 'hypothesis_D_46_up.tsv', 'hypothesis_B_153_down.tsv', 'hypothesis_E_153_down.tsv', 'hypothesis_D_154_up.tsv', 'hypothesis_E_154_down.tsv', 'hypothesis_C_109_down.tsv', 'hypothesis_C_109_up.tsv', 'hypothesis_B_153_up.tsv']\n",
      "working with hypothesis E...\n",
      "['hypothesis_E_154_up.tsv', 'hypothesis_C_46_down.tsv', 'messages.txt', 'hypothesis_B_154_up.tsv', 'hypothesis_E_109_up.tsv', 'hypothesis_B_46_down.tsv', 'hypothesis_A_154_up.tsv', 'hypothesis_D_153_up.tsv', 'hypothesis_A_154_down.tsv', 'hypothesis_A_46_up.tsv', 'hypothesis_C_154_down.tsv', 'hypothesis_A_94_up.tsv', 'hypothesis_E_46_down.tsv', 'hypothesis_B_46_up.tsv', 'hypothesis_A_153_up.tsv', 'unformatted', 'hypothesis_A_46_down.tsv', 'hypothesis_C_46_up.tsv', 'hypothesis_E_46_up.tsv', 'hypothesis_D_94_down.tsv', 'hypothesis_D_154_down.tsv', 'hypothesis_E_109_down.tsv', 'hypothesis_E_153_up.tsv', 'hypothesis_A_94_down.tsv', 'hypothesis_D_153_down.tsv', 'hypothesis_C_153_down.tsv', 'hypothesis_A_153_down.tsv', 'hypothesis_B_154_down.tsv', 'hypothesis_C_154_up.tsv', 'hypothesis_C_153_up.tsv', 'hypothesis_D_94_up.tsv', 'hypothesis_D_46_down.tsv', 'hypothesis_D_46_up.tsv', 'hypothesis_B_153_down.tsv', 'hypothesis_E_153_down.tsv', 'hypothesis_D_154_up.tsv', 'hypothesis_E_154_down.tsv', 'hypothesis_C_109_down.tsv', 'hypothesis_C_109_up.tsv', 'hypothesis_B_153_up.tsv']\n"
     ]
    }
   ],
   "source": [
    "for hypothesis in hypotheses:\n",
    "    print('working with hypothesis {}...'.format(hypothesis))\n",
    "    \n",
    "    ### 1. define patients\n",
    "    elements = os.listdir(deseq2_folder)\n",
    "    print(elements)\n",
    "    ### 2. define DEGs\n",
    "    \n",
    "    ### 3. define patient-coherent DEGs\n",
    "    \n",
    "    ### 4. write a table for this particular hypothesis"
   ]
  },
  {
   "cell_type": "code",
   "execution_count": null,
   "id": "f72c2707",
   "metadata": {},
   "outputs": [],
   "source": [
    "for hypothesis in hypotheses:\n",
    "\n",
    "    ### 1. define patients\n",
    "    \n",
    "    ### 2. define DEGs\n",
    "    \n",
    "    ### 3. define patient-coherent DEGs\n",
    "    \n",
    "    define filtered DEGs across patients\n",
    "    DEGs_across_patients = []\n",
    "    for patient in patients:\n",
    "\n",
    "        ## read DEGs\n",
    "        approach = 'DESeq2'\n",
    "        DEG_up, DEG_down = DEG_reader(approach)\n",
    "\n",
    "        ## check the filters\n",
    "        filtered_DEGs = []\n",
    "        for DEGs in [DEG_up, DEG_down]:\n",
    "            filtered_set = DEG_filter(DEGs)\n",
    "            filtered_DEGs.append(filtered_set)\n",
    "\n",
    "        ## append filtered DEGs into patient DEG list\n",
    "        DEGs_across_patients.append(filtered_DEGs)\n",
    "\n",
    "    ### find consistent set of genes across patients\n",
    "    consistent_DEGs = consistency_check(DEGs_across_patients)\n",
    "\n",
    "    ### generate a final table\n",
    "    for trend in consistent_DEGs:\n",
    "        table_generator(trend)"
   ]
  }
 ],
 "metadata": {
  "kernelspec": {
   "display_name": "Python 3",
   "language": "python",
   "name": "python3"
  },
  "language_info": {
   "codemirror_mode": {
    "name": "ipython",
    "version": 3
   },
   "file_extension": ".py",
   "mimetype": "text/x-python",
   "name": "python",
   "nbconvert_exporter": "python",
   "pygments_lexer": "ipython3",
   "version": "3.7.11"
  }
 },
 "nbformat": 4,
 "nbformat_minor": 5
}
