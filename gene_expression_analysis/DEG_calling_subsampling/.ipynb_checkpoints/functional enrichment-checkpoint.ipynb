{
 "cells": [
  {
   "cell_type": "code",
   "execution_count": 1,
   "id": "fa36ef90",
   "metadata": {},
   "outputs": [],
   "source": [
    "import json, os"
   ]
  },
  {
   "cell_type": "code",
   "execution_count": 2,
   "id": "d222e092",
   "metadata": {},
   "outputs": [],
   "source": [
    "def analysis(json_file):\n",
    "    \n",
    "    color=json_file.split('.')[0]\n",
    "    amigo_file=amigo_dir+'{}.json'.format(color)\n",
    "    output_file=amigo_dir+'{}_formatted.txt'.format(color)\n",
    "    \n",
    "    g=open(output_file,'w')\n",
    "    g.write('Level\\tTerm\\tBackground rank\\tFound rank\\tExpected rank\\tFold enrichment\\tSign\\tP-value\\tTranscripts\\tGene symbols\\tGene names\\n')\n",
    "\n",
    "    with open(amigo_file,'r') as f:\n",
    "        data = json.load(f)\n",
    "        for group in data['overrepresentation']['group']:\n",
    "            if type(group) == dict:\n",
    "                if type(group['result']) == list:\n",
    "                    pathways=group['result']\n",
    "                elif type(group['result']) == dict:\n",
    "                    pathways=[group['result']]\n",
    "                else:\n",
    "                    print('ERROR: value not considered for variable group[result].')\n",
    "                \n",
    "                for element in pathways:\n",
    "                        \n",
    "                    \n",
    "                    sign=element['input_list']['plus_minus']\n",
    "                    if sign == '+':\n",
    "                        level=element['term']['level']\n",
    "                        term=element['term']['label']\n",
    "                        background_rank=element['number_in_reference']\n",
    "                        found_rank=element['input_list']['number_in_list']\n",
    "                        expected_rank=element['input_list']['expected']\n",
    "                        fold_enrichment=element['input_list']['fold_enrichment']\n",
    "                        pvalue=element['input_list']['pValue']\n",
    "\n",
    "                        working_variable=element['input_list']['mapped_id_list']['mapped_id']\n",
    "#                         if type(working_variable) == list:\n",
    "#                             transcripts=working_variable\n",
    "#                             gene_symbols=[synonyms[ID][0] for ID in transcripts]\n",
    "#                             gene_names=[synonyms[ID][1] for ID in transcripts]\n",
    "#                         elif type(working_variable) == str:\n",
    "#                             transcripts=[working_variable]\n",
    "#                             gene_symbols=[synonyms[transcripts[0]][0]]\n",
    "#                             gene_names=[synonyms[transcripts[0]][1]]\n",
    "#                         else:\n",
    "#                             print('ERROR: value not considered for variable working_variable.')\n",
    "\n",
    "#                         transcripts_string=','.join(transcripts)\n",
    "#                         gene_symbols_string=','.join(gene_symbols)\n",
    "#                         gene_names_string=','.join(gene_names)\n",
    "\n",
    "                        g.write('{}\\t'.format(level))\n",
    "                        g.write('{}\\t'.format(term))\n",
    "                        g.write('{}\\t'.format(background_rank))\n",
    "                        g.write('{}\\t'.format(found_rank))\n",
    "                        g.write('{}\\t'.format(expected_rank))\n",
    "                        g.write('{}\\t'.format(fold_enrichment))\n",
    "                        g.write('{}\\t'.format(sign))\n",
    "                        g.write('{}\\t'.format(pvalue))\n",
    "#                         g.write('{}\\t'.format(transcripts_string))\n",
    "#                         g.write('{}\\t'.format(gene_symbols_string))\n",
    "#                         g.write('{}\\t'.format(gene_names_string))\n",
    "\n",
    "                        g.write('\\n')\n",
    "                     \n",
    "    g.close()\n",
    "    \n",
    "    return None"
   ]
  },
  {
   "cell_type": "code",
   "execution_count": 3,
   "id": "f5e1bd26",
   "metadata": {},
   "outputs": [],
   "source": [
    "working_file = 'laminar_over_static_up.json'\n",
    "amigo_dir= '/home/adrian/scratch/reactome/'"
   ]
  },
  {
   "cell_type": "code",
   "execution_count": 4,
   "id": "e78c6b29",
   "metadata": {},
   "outputs": [],
   "source": [
    "analysis(working_file)"
   ]
  }
 ],
 "metadata": {
  "kernelspec": {
   "display_name": "Python 3",
   "language": "python",
   "name": "python3"
  },
  "language_info": {
   "codemirror_mode": {
    "name": "ipython",
    "version": 3
   },
   "file_extension": ".py",
   "mimetype": "text/x-python",
   "name": "python",
   "nbconvert_exporter": "python",
   "pygments_lexer": "ipython3",
   "version": "3.8.13"
  }
 },
 "nbformat": 4,
 "nbformat_minor": 5
}
