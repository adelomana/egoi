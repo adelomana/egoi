{
 "cells": [
  {
   "cell_type": "code",
   "execution_count": 1,
   "id": "55ec9f45-ae2a-44c5-9bce-2e93da31099f",
   "metadata": {},
   "outputs": [],
   "source": [
    "import numpy"
   ]
  },
  {
   "cell_type": "code",
   "execution_count": 2,
   "id": "7622c9fc-9264-4ecb-bcd9-7bb8ae43424d",
   "metadata": {},
   "outputs": [],
   "source": [
    "import cobra, cobra.io, cobra.sampling\n",
    "import scipy, scipy.signal"
   ]
  },
  {
   "cell_type": "code",
   "execution_count": 3,
   "id": "03b23969-f83e-4ba4-883f-a97f63652669",
   "metadata": {},
   "outputs": [],
   "source": [
    "import matplotlib, matplotlib.pyplot\n",
    "matplotlib.rcParams.update({'font.size':20, \n",
    "                            'xtick.labelsize':20, \n",
    "                            'ytick.labelsize':20, \n",
    "                            'axes.labelsize':20, \n",
    "                            'figure.figsize':(12 * 0.6, 9 * 0.6)})"
   ]
  },
  {
   "cell_type": "markdown",
   "id": "82b941c6-942c-41b7-b4f4-17436160eb30",
   "metadata": {},
   "source": [
    "# user-defined variables"
   ]
  },
  {
   "cell_type": "code",
   "execution_count": 4,
   "id": "67ded65b-ee46-444a-a23a-ed0e481071fc",
   "metadata": {},
   "outputs": [],
   "source": [
    "low_number_of_points = 100\n",
    "high_number_of_points = 10000\n",
    "threads = 4"
   ]
  },
  {
   "cell_type": "markdown",
   "id": "77b86834-eed4-430b-acd6-18e520ffa314",
   "metadata": {},
   "source": [
    "# read the model"
   ]
  },
  {
   "cell_type": "code",
   "execution_count": 5,
   "id": "4c82ef52-7fe3-4ef7-baa9-373f50a7b179",
   "metadata": {},
   "outputs": [
    {
     "name": "stderr",
     "output_type": "stream",
     "text": [
      "No objective in listOfObjectives\n",
      "No objective coefficients in model. Unclear what should be optimized\n"
     ]
    },
    {
     "name": "stdout",
     "output_type": "stream",
     "text": [
      "CPU times: user 8.7 s, sys: 572 ms, total: 9.27 s\n",
      "Wall time: 9.52 s\n"
     ]
    }
   ],
   "source": [
    "%%time\n",
    "model = cobra.io.read_sbml_model('model_out_Static_90.sbml.xml')\n",
    "solution = model.optimize()"
   ]
  },
  {
   "cell_type": "code",
   "execution_count": 6,
   "id": "2bf114c7-1e9f-47b5-96fa-218eec5ff6c7",
   "metadata": {},
   "outputs": [
    {
     "name": "stdout",
     "output_type": "stream",
     "text": [
      "<class 'optlang.glpk_interface.Model'>\n",
      "143.582775499576\n",
      "0.0\n",
      "1000.0\n"
     ]
    }
   ],
   "source": [
    "print(type(model.solver))\n",
    "\n",
    "print(solution.fluxes['biomass_maintenance'])\n",
    "\n",
    "reaction = cobra.Reaction('biomass_maintenance')\n",
    "print(reaction.lower_bound)\n",
    "print(reaction.upper_bound)"
   ]
  },
  {
   "cell_type": "markdown",
   "id": "caf92f97-1b2b-46d7-b961-87b1b45f6503",
   "metadata": {},
   "source": [
    "# random sampling"
   ]
  },
  {
   "cell_type": "markdown",
   "id": "1e33f34a-84e4-444b-8ad0-51ec2feced8c",
   "metadata": {},
   "source": [
    "## optgp method"
   ]
  },
  {
   "cell_type": "code",
   "execution_count": 7,
   "id": "76128339-4ec4-4a13-819c-a8d0f9800742",
   "metadata": {},
   "outputs": [
    {
     "name": "stdout",
     "output_type": "stream",
     "text": [
      "CPU times: user 10min 48s, sys: 8.44 s, total: 10min 57s\n",
      "Wall time: 6min 30s\n"
     ]
    },
    {
     "data": {
      "text/html": [
       "<div>\n",
       "<style scoped>\n",
       "    .dataframe tbody tr th:only-of-type {\n",
       "        vertical-align: middle;\n",
       "    }\n",
       "\n",
       "    .dataframe tbody tr th {\n",
       "        vertical-align: top;\n",
       "    }\n",
       "\n",
       "    .dataframe thead th {\n",
       "        text-align: right;\n",
       "    }\n",
       "</style>\n",
       "<table border=\"1\" class=\"dataframe\">\n",
       "  <thead>\n",
       "    <tr style=\"text-align: right;\">\n",
       "      <th></th>\n",
       "      <th>10FTHF7GLUtl</th>\n",
       "      <th>10FTHF7GLUtm</th>\n",
       "      <th>10FTHFtl</th>\n",
       "      <th>13DAMPPOX</th>\n",
       "      <th>2AMADPTm</th>\n",
       "      <th>2HBO</th>\n",
       "      <th>2HBt2</th>\n",
       "      <th>2OXOADOXm</th>\n",
       "      <th>2OXOADPTm</th>\n",
       "      <th>34DHOXPEGOX</th>\n",
       "      <th>...</th>\n",
       "      <th>sink_asp_L[c]</th>\n",
       "      <th>sink_glu_L[c]</th>\n",
       "      <th>sink_pro_L[c]</th>\n",
       "      <th>sink_ser_L[c]</th>\n",
       "      <th>sink_gly[c]</th>\n",
       "      <th>sink_4abut[l]</th>\n",
       "      <th>DM_4glu56dihdind[c]</th>\n",
       "      <th>DM_4abut[c]</th>\n",
       "      <th>DM_btn[m]</th>\n",
       "      <th>DCMPtm</th>\n",
       "    </tr>\n",
       "  </thead>\n",
       "  <tbody>\n",
       "    <tr>\n",
       "      <th>0</th>\n",
       "      <td>0.002516</td>\n",
       "      <td>0.002090</td>\n",
       "      <td>-0.002516</td>\n",
       "      <td>0.021941</td>\n",
       "      <td>0.003520</td>\n",
       "      <td>-0.004553</td>\n",
       "      <td>899.586175</td>\n",
       "      <td>0.009802</td>\n",
       "      <td>0.007800</td>\n",
       "      <td>-0.002604</td>\n",
       "      <td>...</td>\n",
       "      <td>602.137522</td>\n",
       "      <td>-999.881778</td>\n",
       "      <td>-464.746635</td>\n",
       "      <td>2.883203</td>\n",
       "      <td>-993.019724</td>\n",
       "      <td>-0.093837</td>\n",
       "      <td>0.016055</td>\n",
       "      <td>0.125830</td>\n",
       "      <td>0.004978</td>\n",
       "      <td>-999.792525</td>\n",
       "    </tr>\n",
       "    <tr>\n",
       "      <th>1</th>\n",
       "      <td>0.002517</td>\n",
       "      <td>0.002090</td>\n",
       "      <td>-0.002517</td>\n",
       "      <td>0.021018</td>\n",
       "      <td>0.003520</td>\n",
       "      <td>-0.000184</td>\n",
       "      <td>899.600129</td>\n",
       "      <td>0.037130</td>\n",
       "      <td>0.035127</td>\n",
       "      <td>-0.002612</td>\n",
       "      <td>...</td>\n",
       "      <td>602.136118</td>\n",
       "      <td>-999.889783</td>\n",
       "      <td>-464.739455</td>\n",
       "      <td>2.946195</td>\n",
       "      <td>-993.039282</td>\n",
       "      <td>-0.090526</td>\n",
       "      <td>0.015720</td>\n",
       "      <td>0.121663</td>\n",
       "      <td>0.007316</td>\n",
       "      <td>-999.820132</td>\n",
       "    </tr>\n",
       "    <tr>\n",
       "      <th>2</th>\n",
       "      <td>0.004146</td>\n",
       "      <td>0.003720</td>\n",
       "      <td>-0.004146</td>\n",
       "      <td>0.020623</td>\n",
       "      <td>0.003520</td>\n",
       "      <td>-0.003120</td>\n",
       "      <td>899.519791</td>\n",
       "      <td>0.037625</td>\n",
       "      <td>0.035622</td>\n",
       "      <td>-0.002493</td>\n",
       "      <td>...</td>\n",
       "      <td>602.158936</td>\n",
       "      <td>-999.894033</td>\n",
       "      <td>-464.773230</td>\n",
       "      <td>3.041325</td>\n",
       "      <td>-993.031295</td>\n",
       "      <td>-0.079656</td>\n",
       "      <td>0.015720</td>\n",
       "      <td>0.111885</td>\n",
       "      <td>0.010685</td>\n",
       "      <td>-999.828480</td>\n",
       "    </tr>\n",
       "    <tr>\n",
       "      <th>3</th>\n",
       "      <td>0.044020</td>\n",
       "      <td>0.037430</td>\n",
       "      <td>-0.044020</td>\n",
       "      <td>0.257995</td>\n",
       "      <td>0.055127</td>\n",
       "      <td>-0.134908</td>\n",
       "      <td>-116.766871</td>\n",
       "      <td>0.377030</td>\n",
       "      <td>0.345362</td>\n",
       "      <td>-0.038299</td>\n",
       "      <td>...</td>\n",
       "      <td>792.039141</td>\n",
       "      <td>-995.916232</td>\n",
       "      <td>-796.904325</td>\n",
       "      <td>366.601384</td>\n",
       "      <td>-879.770999</td>\n",
       "      <td>-19.688339</td>\n",
       "      <td>0.240014</td>\n",
       "      <td>20.077747</td>\n",
       "      <td>0.110864</td>\n",
       "      <td>-992.242615</td>\n",
       "    </tr>\n",
       "    <tr>\n",
       "      <th>4</th>\n",
       "      <td>0.043139</td>\n",
       "      <td>0.036551</td>\n",
       "      <td>-0.043139</td>\n",
       "      <td>0.053557</td>\n",
       "      <td>0.056327</td>\n",
       "      <td>-0.079136</td>\n",
       "      <td>-116.359633</td>\n",
       "      <td>0.376715</td>\n",
       "      <td>0.409996</td>\n",
       "      <td>-0.074193</td>\n",
       "      <td>...</td>\n",
       "      <td>791.913146</td>\n",
       "      <td>-995.616657</td>\n",
       "      <td>-797.246797</td>\n",
       "      <td>367.786792</td>\n",
       "      <td>-880.701688</td>\n",
       "      <td>-19.695753</td>\n",
       "      <td>0.239968</td>\n",
       "      <td>20.104808</td>\n",
       "      <td>0.050633</td>\n",
       "      <td>-991.749080</td>\n",
       "    </tr>\n",
       "  </tbody>\n",
       "</table>\n",
       "<p>5 rows × 4604 columns</p>\n",
       "</div>"
      ],
      "text/plain": [
       "   10FTHF7GLUtl  10FTHF7GLUtm  10FTHFtl  13DAMPPOX  2AMADPTm      2HBO  \\\n",
       "0      0.002516      0.002090 -0.002516   0.021941  0.003520 -0.004553   \n",
       "1      0.002517      0.002090 -0.002517   0.021018  0.003520 -0.000184   \n",
       "2      0.004146      0.003720 -0.004146   0.020623  0.003520 -0.003120   \n",
       "3      0.044020      0.037430 -0.044020   0.257995  0.055127 -0.134908   \n",
       "4      0.043139      0.036551 -0.043139   0.053557  0.056327 -0.079136   \n",
       "\n",
       "        2HBt2  2OXOADOXm  2OXOADPTm  34DHOXPEGOX  ...  sink_asp_L[c]  \\\n",
       "0  899.586175   0.009802   0.007800    -0.002604  ...     602.137522   \n",
       "1  899.600129   0.037130   0.035127    -0.002612  ...     602.136118   \n",
       "2  899.519791   0.037625   0.035622    -0.002493  ...     602.158936   \n",
       "3 -116.766871   0.377030   0.345362    -0.038299  ...     792.039141   \n",
       "4 -116.359633   0.376715   0.409996    -0.074193  ...     791.913146   \n",
       "\n",
       "   sink_glu_L[c]  sink_pro_L[c]  sink_ser_L[c]  sink_gly[c]  sink_4abut[l]  \\\n",
       "0    -999.881778    -464.746635       2.883203  -993.019724      -0.093837   \n",
       "1    -999.889783    -464.739455       2.946195  -993.039282      -0.090526   \n",
       "2    -999.894033    -464.773230       3.041325  -993.031295      -0.079656   \n",
       "3    -995.916232    -796.904325     366.601384  -879.770999     -19.688339   \n",
       "4    -995.616657    -797.246797     367.786792  -880.701688     -19.695753   \n",
       "\n",
       "   DM_4glu56dihdind[c]  DM_4abut[c]  DM_btn[m]      DCMPtm  \n",
       "0             0.016055     0.125830   0.004978 -999.792525  \n",
       "1             0.015720     0.121663   0.007316 -999.820132  \n",
       "2             0.015720     0.111885   0.010685 -999.828480  \n",
       "3             0.240014    20.077747   0.110864 -992.242615  \n",
       "4             0.239968    20.104808   0.050633 -991.749080  \n",
       "\n",
       "[5 rows x 4604 columns]"
      ]
     },
     "execution_count": 7,
     "metadata": {},
     "output_type": "execute_result"
    }
   ],
   "source": [
    "%%time\n",
    "cloud = cobra.sampling.sample(model, low_number_of_points)\n",
    "cloud.head()"
   ]
  },
  {
   "cell_type": "code",
   "execution_count": 8,
   "id": "44779945-8da9-4166-8ba5-a610d78fb015",
   "metadata": {},
   "outputs": [
    {
     "name": "stdout",
     "output_type": "stream",
     "text": [
      "CPU times: user 11min 8s, sys: 10.1 s, total: 11min 18s\n",
      "Wall time: 6min 43s\n"
     ]
    }
   ],
   "source": [
    "%%time\n",
    "optgp_cloud_low = cobra.sampling.sample(model, low_number_of_points, processes=threads)"
   ]
  },
  {
   "cell_type": "code",
   "execution_count": 9,
   "id": "809cfe9a-7a21-4769-8b7c-9e6171380947",
   "metadata": {},
   "outputs": [
    {
     "name": "stdout",
     "output_type": "stream",
     "text": [
      "CPU times: user 17min 45s, sys: 16.3 s, total: 18min 2s\n",
      "Wall time: 13min 5s\n"
     ]
    }
   ],
   "source": [
    "%%time\n",
    "cloud = cobra.sampling.sample(model, high_number_of_points)"
   ]
  },
  {
   "cell_type": "code",
   "execution_count": 10,
   "id": "82cc2882-4ca3-47fa-9233-74d301c47e97",
   "metadata": {},
   "outputs": [
    {
     "name": "stdout",
     "output_type": "stream",
     "text": [
      "CPU times: user 12min 4s, sys: 13.1 s, total: 12min 17s\n",
      "Wall time: 9min 47s\n"
     ]
    }
   ],
   "source": [
    "%%time\n",
    "optgp_cloud_high = cobra.sampling.sample(model, high_number_of_points, processes=threads)"
   ]
  },
  {
   "cell_type": "markdown",
   "id": "bf36e01a-a9ac-4b64-bc24-fe0f204abb17",
   "metadata": {},
   "source": [
    "Conclusions:\n",
    "- Multiple threading has not substantial effect, the parallel part is minimal. \n",
    "- Asking for 100 or 1,000 has not substantial effect on computational time."
   ]
  },
  {
   "cell_type": "markdown",
   "id": "f92656aa-5c74-422e-82e4-34d623c671ee",
   "metadata": {},
   "source": [
    "## achr method\n",
    "It does not accept multiple threads."
   ]
  },
  {
   "cell_type": "code",
   "execution_count": 11,
   "id": "58f58ede-7e36-4414-9451-21f2a4d65958",
   "metadata": {},
   "outputs": [
    {
     "name": "stdout",
     "output_type": "stream",
     "text": [
      "CPU times: user 10min 11s, sys: 8.62 s, total: 10min 20s\n",
      "Wall time: 6min 4s\n"
     ]
    }
   ],
   "source": [
    "%%time\n",
    "achr_cloud_low = cobra.sampling.sample(model, low_number_of_points, method=\"achr\")"
   ]
  },
  {
   "cell_type": "code",
   "execution_count": 12,
   "id": "9090a4ec-b81d-445a-be3e-2ee7fa4b9c4c",
   "metadata": {},
   "outputs": [
    {
     "name": "stdout",
     "output_type": "stream",
     "text": [
      "CPU times: user 13min 28s, sys: 42.5 s, total: 14min 10s\n",
      "Wall time: 11min 9s\n"
     ]
    }
   ],
   "source": [
    "%%time\n",
    "achr_cloud_high = cobra.sampling.sample(model, high_number_of_points, method=\"achr\")"
   ]
  },
  {
   "cell_type": "markdown",
   "id": "96563220-0f1a-4874-9400-8a843cf48efd",
   "metadata": {},
   "source": [
    "# storage"
   ]
  },
  {
   "cell_type": "code",
   "execution_count": 13,
   "id": "9442c980-b306-4ea5-a62b-f4be44ccf287",
   "metadata": {},
   "outputs": [],
   "source": [
    "clouds = [optgp_cloud_low, optgp_cloud_high, achr_cloud_low, achr_cloud_high]\n",
    "cloud_names = ['optgp_cloud_low', 'optgp_cloud_high', 'achr_cloud_low', 'achr_cloud_high']\n",
    "\n",
    "for i in range(len(clouds)):\n",
    "    clouds[i].to_csv(cloud_names[i], sep='\\t')    "
   ]
  },
  {
   "cell_type": "markdown",
   "id": "4d2f579b-6997-485a-a0dc-f71bc86c35c1",
   "metadata": {},
   "source": [
    "# visualization"
   ]
  },
  {
   "cell_type": "code",
   "execution_count": 14,
   "id": "0ffc6e44-bcb9-4062-859e-40917d31ec3f",
   "metadata": {},
   "outputs": [],
   "source": [
    "cloud_colors = ['skyblue', 'gold', 'tab:green', 'tab:red']"
   ]
  },
  {
   "cell_type": "code",
   "execution_count": 35,
   "id": "16bc0d32-bebb-4175-a635-d9f8bd8e63ff",
   "metadata": {},
   "outputs": [
    {
     "name": "stdout",
     "output_type": "stream",
     "text": [
      "143.5827872533168 143.76242023358375\n",
      "143.5827768818982 146.91214023061715\n",
      "143.58286464856394 143.63699548763802\n",
      "143.5827794820656 154.80874078840475\n"
     ]
    },
    {
     "data": {
      "image/png": "[encoded data removed]",
      "text/plain": [
       "<Figure size 720x540 with 1 Axes>"
      ]
     },
     "metadata": {},
     "output_type": "display_data"
    }
   ],
   "source": [
    "for i in range(len(clouds)):\n",
    "    cloud = clouds[i]\n",
    "    the_color = cloud_colors[i]\n",
    "    bm = cloud['biomass_maintenance']\n",
    "    print(numpy.min(bm), numpy.max(bm))\n",
    "    hist, bin_edges = numpy.histogram(bm, bins=200, range=(143, 155), density=True)\n",
    "    half_bin = (bin_edges[1] - bin_edges[0])/2\n",
    "    x = bin_edges + half_bin\n",
    "    x = x[:-1]\n",
    "\n",
    "    #\n",
    "    matplotlib.pyplot.plot(x, hist, 'o', alpha=1/2, color=the_color, mec='none', label=cloud_names[i])\n",
    "\n",
    "    # \n",
    "    yhat = scipy.signal.savgol_filter(hist, 51, 3)\n",
    "    matplotlib.pyplot.plot(x, yhat, '-', lw=1, alpha=1)\n",
    "\n",
    "matplotlib.pyplot.xlabel('biomass_maintenance')\n",
    "matplotlib.pyplot.ylabel('Density')\n",
    "matplotlib.pyplot.grid(ls=':')\n",
    "matplotlib.pyplot.legend(fontsize=12)\n",
    "matplotlib.pyplot.ylim(-0.01, 1)\n",
    "matplotlib.pyplot.xlim(142.5, 155.5)\n",
    "\n",
    "matplotlib.pyplot.tight_layout()\n",
    "matplotlib.pyplot.show()"
   ]
  },
  {
   "cell_type": "markdown",
   "id": "42b4142c-a2e9-4e6a-88f6-ff03db318cf0",
   "metadata": {},
   "source": [
    "# adding constrains"
   ]
  },
  {
   "cell_type": "code",
   "execution_count": 16,
   "id": "a911d0ab-b041-4dd4-bb46-00859aede89e",
   "metadata": {},
   "outputs": [],
   "source": [
    "co = model.problem.Constraint(model.reactions.Biomass_Ecoli_core.flux_expression, lb=0.1)\n",
    "model.add_cons_vars([co])"
   ]
  },
  {
   "cell_type": "code",
   "execution_count": 17,
   "id": "e7590ced-4d9b-4dd5-b409-29e877f9d138",
   "metadata": {},
   "outputs": [],
   "source": [
    "# re-sampling"
   ]
  },
  {
   "cell_type": "code",
   "execution_count": 18,
   "id": "263902bd-396f-4bae-8990-f935c6b1cb95",
   "metadata": {},
   "outputs": [],
   "source": [
    "# visualization after resampling"
   ]
  }
 ],
 "metadata": {
  "kernelspec": {
   "display_name": "Python 3 (ipykernel)",
   "language": "python",
   "name": "python3"
  },
  "language_info": {
   "codemirror_mode": {
    "name": "ipython",
    "version": 3
   },
   "file_extension": ".py",
   "mimetype": "text/x-python",
   "name": "python",
   "nbconvert_exporter": "python",
   "pygments_lexer": "ipython3",
   "version": "3.11.6"
  }
 },
 "nbformat": 4,
 "nbformat_minor": 5
}
