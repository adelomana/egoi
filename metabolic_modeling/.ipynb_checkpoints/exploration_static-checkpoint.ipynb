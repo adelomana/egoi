{
 "cells": [
  {
   "cell_type": "code",
   "execution_count": 1,
   "id": "55ec9f45-ae2a-44c5-9bce-2e93da31099f",
   "metadata": {},
   "outputs": [],
   "source": [
    "import numpy, time"
   ]
  },
  {
   "cell_type": "code",
   "execution_count": 2,
   "id": "7622c9fc-9264-4ecb-bcd9-7bb8ae43424d",
   "metadata": {},
   "outputs": [],
   "source": [
    "import cobra, cobra.io, cobra.sampling\n",
    "import scipy, scipy.signal"
   ]
  },
  {
   "cell_type": "code",
   "execution_count": 3,
   "id": "03b23969-f83e-4ba4-883f-a97f63652669",
   "metadata": {},
   "outputs": [],
   "source": [
    "import matplotlib, matplotlib.pyplot\n",
    "matplotlib.rcParams.update({'font.size':20, \n",
    "                            'xtick.labelsize':20, \n",
    "                            'ytick.labelsize':20, \n",
    "                            'axes.labelsize':20, \n",
    "                            'figure.figsize':(12 * 0.6, 9 * 0.6)})"
   ]
  },
  {
   "cell_type": "markdown",
   "id": "82b941c6-942c-41b7-b4f4-17436160eb30",
   "metadata": {},
   "source": [
    "# user-defined variables"
   ]
  },
  {
   "cell_type": "code",
   "execution_count": 4,
   "id": "67ded65b-ee46-444a-a23a-ed0e481071fc",
   "metadata": {},
   "outputs": [],
   "source": [
    "threads = 4\n",
    "results_folder = '/Users/adrian/research/hegoi/results'"
   ]
  },
  {
   "cell_type": "code",
   "execution_count": 5,
   "id": "820c6c6e-0abc-4dc4-8175-18dacb7947d2",
   "metadata": {},
   "outputs": [
    {
     "name": "stdout",
     "output_type": "stream",
     "text": [
      "[   1024    2048    4096    8192   16384   32768   65536  131072  262144\n",
      "  524288 1048576]\n"
     ]
    }
   ],
   "source": [
    "resolutions = 2**numpy.arange(10, 21, 1)\n",
    "print(resolutions)"
   ]
  },
  {
   "cell_type": "code",
   "execution_count": 6,
   "id": "a2e2ca2c-f0a1-4f8f-8006-3bc2c7c2f09b",
   "metadata": {},
   "outputs": [],
   "source": [
    "# resolutions = 2**numpy.arange(10, 15, 1)\n",
    "# print(resolutions)"
   ]
  },
  {
   "cell_type": "markdown",
   "id": "77b86834-eed4-430b-acd6-18e520ffa314",
   "metadata": {},
   "source": [
    "# read the model"
   ]
  },
  {
   "cell_type": "code",
   "execution_count": null,
   "id": "4c82ef52-7fe3-4ef7-baa9-373f50a7b179",
   "metadata": {},
   "outputs": [
    {
     "name": "stderr",
     "output_type": "stream",
     "text": [
      "No objective in listOfObjectives\n",
      "No objective coefficients in model. Unclear what should be optimized\n"
     ]
    }
   ],
   "source": [
    "%%time\n",
    "model = cobra.io.read_sbml_model('model_out_Static_90.sbml.xml')\n",
    "solution = model.optimize()"
   ]
  },
  {
   "cell_type": "code",
   "execution_count": null,
   "id": "2bf114c7-1e9f-47b5-96fa-218eec5ff6c7",
   "metadata": {},
   "outputs": [],
   "source": [
    "print(type(model.solver))\n",
    "\n",
    "print(solution.fluxes['biomass_maintenance'])\n",
    "\n",
    "model.reactions.biomass_maintenance"
   ]
  },
  {
   "cell_type": "markdown",
   "id": "edfd2e3f-c7ef-4e5d-b589-4911955c2837",
   "metadata": {},
   "source": [
    "Why 143 and not 159?"
   ]
  },
  {
   "cell_type": "markdown",
   "id": "caf92f97-1b2b-46d7-b961-87b1b45f6503",
   "metadata": {},
   "source": [
    "# random sampling"
   ]
  },
  {
   "cell_type": "markdown",
   "id": "837420e8-da1a-4ffb-b283-6ffa72e9f16e",
   "metadata": {},
   "source": [
    "## optgp"
   ]
  },
  {
   "cell_type": "code",
   "execution_count": null,
   "id": "76128339-4ec4-4a13-819c-a8d0f9800742",
   "metadata": {},
   "outputs": [],
   "source": [
    "%%time\n",
    "\n",
    "for resolution in resolutions:\n",
    "\n",
    "    before = time.process_time()\n",
    "    \n",
    "    cloud = cobra.sampling.sample(model, resolution, processes=threads)\n",
    "    filename = '{}/static.optgp.{}.feather'.format(results_folder, resolution)\n",
    "    cloud.to_feather(filename)\n",
    "    \n",
    "    after = time.process_time()\n",
    "    elapsed_time = after - before\n",
    "    print('Process time for resolution {} is {} seconds'.format(resolution, int(elapsed_time)))"
   ]
  },
  {
   "cell_type": "markdown",
   "id": "10496ee7-4ad8-4b1e-aabb-73eed8d4b320",
   "metadata": {},
   "source": [
    "## achr method"
   ]
  },
  {
   "cell_type": "code",
   "execution_count": null,
   "id": "99cd5025-c409-4b2d-80fa-62a53577bf50",
   "metadata": {},
   "outputs": [],
   "source": [
    "%%time\n",
    "\n",
    "for resolution in resolutions:\n",
    "\n",
    "    before = time.process_time()\n",
    "    \n",
    "    cloud = cobra.sampling.sample(model, resolution, method=\"achr\")\n",
    "    filename = '{}/static.achr.{}.feather'.format(results_folder, resolution)\n",
    "    cloud.to_csv(filename)\n",
    "    \n",
    "    after = time.process_time()\n",
    "    elapsed_time = after - before\n",
    "    print('Process time for resolution {} is {} seconds'.format(resolution, int(elapsed_time)))"
   ]
  }
 ],
 "metadata": {
  "kernelspec": {
   "display_name": "Python 3 (ipykernel)",
   "language": "python",
   "name": "python3"
  },
  "language_info": {
   "codemirror_mode": {
    "name": "ipython",
    "version": 3
   },
   "file_extension": ".py",
   "mimetype": "text/x-python",
   "name": "python",
   "nbconvert_exporter": "python",
   "pygments_lexer": "ipython3",
   "version": "3.11.7"
  }
 },
 "nbformat": 4,
 "nbformat_minor": 5
}
