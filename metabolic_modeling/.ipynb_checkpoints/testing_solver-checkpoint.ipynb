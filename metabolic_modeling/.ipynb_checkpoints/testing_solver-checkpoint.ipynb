{
 "cells": [
  {
   "cell_type": "code",
   "execution_count": 1,
   "id": "4fb4e0bf-7872-4d1d-8eca-b43c75eaf185",
   "metadata": {},
   "outputs": [],
   "source": [
    "import cobra, cobra.core"
   ]
  },
  {
   "cell_type": "code",
   "execution_count": 2,
   "id": "21f17c9e-579c-4596-9e3c-baabecc8e62c",
   "metadata": {},
   "outputs": [],
   "source": [
    "import cplex"
   ]
  },
  {
   "cell_type": "code",
   "execution_count": 3,
   "id": "595e870b-3123-4d91-ba6f-c07ff7a00066",
   "metadata": {},
   "outputs": [
    {
     "name": "stderr",
     "output_type": "stream",
     "text": [
      "No objective in listOfObjectives\n",
      "No objective coefficients in model. Unclear what should be optimized\n"
     ]
    },
    {
     "name": "stdout",
     "output_type": "stream",
     "text": [
      "CPU times: user 7.33 s, sys: 277 ms, total: 7.6 s\n",
      "Wall time: 7.63 s\n"
     ]
    }
   ],
   "source": [
    "%%time\n",
    "model = cobra.io.read_sbml_model('model_out_Static_90.sbml.xml')\n",
    "solution = model.optimize()"
   ]
  },
  {
   "cell_type": "code",
   "execution_count": 4,
   "id": "19411284-24b5-4ae1-8399-358dcfb92a30",
   "metadata": {},
   "outputs": [
    {
     "data": {
      "text/plain": [
       "<optlang.cplex_interface.Model at 0x13b4eaed0>"
      ]
     },
     "execution_count": 4,
     "metadata": {},
     "output_type": "execute_result"
    }
   ],
   "source": [
    "model.solver"
   ]
  },
  {
   "cell_type": "code",
   "execution_count": 5,
   "id": "2c7a7ac7-de4a-4d69-b377-03cddb7a0e9d",
   "metadata": {},
   "outputs": [],
   "source": [
    "colb = model.problem.Constraint(model.reactions.biomass_maintenance.flux_expression, lb=1)\n",
    "#coup = model.problem.Constraint(model.reactions.biomass_maintenance.flux_expression, ub=top)\n",
    "\n",
    "model.add_cons_vars([colb])"
   ]
  },
  {
   "cell_type": "code",
   "execution_count": null,
   "id": "4aee892b-cedf-4e36-ba78-1581333c7955",
   "metadata": {},
   "outputs": [],
   "source": [
    "%%time\n",
    "cloud = cobra.sampling.sample(model, 100)\n",
    "cloud.head()"
   ]
  }
 ],
 "metadata": {
  "kernelspec": {
   "display_name": "Python 3 (ipykernel)",
   "language": "python",
   "name": "python3"
  },
  "language_info": {
   "codemirror_mode": {
    "name": "ipython",
    "version": 3
   },
   "file_extension": ".py",
   "mimetype": "text/x-python",
   "name": "python",
   "nbconvert_exporter": "python",
   "pygments_lexer": "ipython3",
   "version": "3.11.6"
  }
 },
 "nbformat": 4,
 "nbformat_minor": 5
}
