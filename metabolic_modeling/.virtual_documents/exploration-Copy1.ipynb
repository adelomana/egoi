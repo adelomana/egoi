import numpy, time


import cobra, cobra.io, cobra.sampling
import scipy, scipy.signal


import matplotlib, matplotlib.pyplot
matplotlib.rcParams.update({'font.size':20, 
                            'xtick.labelsize':20, 
                            'ytick.labelsize':20, 
                            'axes.labelsize':20, 
                            'figure.figsize':(12 * 0.6, 9 * 0.6)})





threads = 4
results_folder = '/Users/adrian/research/hegoi/results'


resolutions = 2**numpy.arange(10, 21, 1)
print(resolutions)


resolutions = 2**numpy.arange(10, 13, 1)
print(resolutions)





%%time
model = cobra.io.read_sbml_model('model_out_Static_90.sbml.xml')
solution = model.optimize()


print(type(model.solver))

print(solution.fluxes['biomass_maintenance'])

model.reactions.biomass_maintenance











%%time

for resolution in resolutions:

    before = time.process_time()
    
    cloud = cobra.sampling.sample(model, resolution, processes=threads)
    filename = '{}/static.optg.{}.tsv'.format(resolution)
    cloud.to_csv(filename, sep='\t')
    
    after = time.process_time()
    elapsed_time = after - before
    print('Process time: {} seconds'.format(int(elapsed_time)))


sdf





%%time
achr_cloud_low = cobra.sampling.sample(model, low_number_of_points, method="achr")


%%time
achr_cloud_high = cobra.sampling.sample(model, high_number_of_points, method="achr")





clouds = [optgp_cloud_low, optgp_cloud_high, achr_cloud_low, achr_cloud_high]
cloud_names = ['optgp_cloud_low', 'optgp_cloud_high', 'achr_cloud_low', 'achr_cloud_high']

for i in range(len(clouds)):
    clouds[i].to_csv(cloud_names[i], sep='\t')    





cloud_colors = ['skyblue', 'gold', 'tab:green', 'tab:red']


for i in range(len(clouds)):
    cloud = clouds[i]
    the_color = cloud_colors[i]
    bm = cloud['biomass_maintenance']
    print(numpy.min(bm), numpy.max(bm))
    hist, bin_edges = numpy.histogram(bm, bins=200, range=(143, 155), density=True)
    half_bin = (bin_edges[1] - bin_edges[0])/2
    x = bin_edges + half_bin
    x = x[:-1]

    # plot points
    matplotlib.pyplot.plot(x, hist, 'o', alpha=1/2, color=the_color, mec='none')

    # fit and plot line
    yhat = scipy.signal.savgol_filter(hist, 51, 3)
    matplotlib.pyplot.plot(x, yhat, '-', lw=1, color=the_color, label=cloud_names[i])

matplotlib.pyplot.xlabel('biomass_maintenance')
matplotlib.pyplot.ylabel('Density')
matplotlib.pyplot.grid(ls=':')
matplotlib.pyplot.legend(fontsize=12)
matplotlib.pyplot.ylim(-0.01, 1)
matplotlib.pyplot.xlim(142.5, 155.5)

matplotlib.pyplot.tight_layout()
matplotlib.pyplot.show()





print(solution.fluxes['biomass_maintenance'])
bottom = solution.fluxes['biomass_maintenance']*0.90
print(bottom)


model.reactions.biomass_maintenance


model.reactions.biomass_maintenance.lower_bound = bottom


model.reactions.biomass_maintenance





%%time
optgp_cloud_high_constrained = cobra.sampling.sample(model, high_number_of_points, processes=threads)


%%time
achr_cloud_high_constrained = cobra.sampling.sample(model, high_number_of_points, method="achr")





a = optgp_cloud_high['biomass_maintenance']
b = achr_cloud_high['biomass_maintenance']
c = optgp_cloud_high_constrained['biomass_maintenance']
d = achr_cloud_high_constrained['biomass_maintenance']
data = [a, b, c, d]

matplotlib.pyplot.boxplot(data, notch=True, patch_artist=True)

matplotlib.pyplot.grid(ls=':')
matplotlib.pyplot.legend(fontsize=12)
matplotlib.pyplot.ylabel('Biomass maintenance flux')

matplotlib.pyplot.tight_layout()
matplotlib.pyplot.show()
