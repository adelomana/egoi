import numpy


import cobra, cobra.io, cobra.sampling
import scipy, scipy.signal


import matplotlib, matplotlib.pyplot
matplotlib.rcParams.update({'font.size':20, 
                            'xtick.labelsize':20, 
                            'ytick.labelsize':20, 
                            'axes.labelsize':20, 
                            'figure.figsize':(12 * 0.6, 9 * 0.6)})





low_number_of_points = 100
high_number_of_points = 10000
threads = 4





%%time
model = cobra.io.read_sbml_model('model_out_Static_90.sbml.xml')
solution = model.optimize()


print(type(model.solver))

print(solution.fluxes['biomass_maintenance'])

reaction = cobra.Reaction('biomass_maintenance')
print(reaction.lower_bound)
print(reaction.upper_bound)








%%time
cloud = cobra.sampling.sample(model, low_number_of_points)
cloud.head()


%%time
optgp_cloud_low = cobra.sampling.sample(model, low_number_of_points, processes=threads)


%%time
cloud = cobra.sampling.sample(model, high_number_of_points)


%%time
optgp_cloud_high = cobra.sampling.sample(model, high_number_of_points, processes=threads)








%%time
achr_cloud_low = cobra.sampling.sample(model, low_number_of_points, method="achr")


%%time
achr_cloud_high = cobra.sampling.sample(model, high_number_of_points, method="achr")





clouds = [optgp_cloud_low, optgp_cloud_high, achr_cloud_low, achr_cloud_high]
cloud_names = ['optgp_cloud_low', 'optgp_cloud_high', 'achr_cloud_low', 'achr_cloud_high']

for i in range(len(clouds)):
    clouds[i].to_csv(cloud_names[i], sep='\t')    





cloud_colors = ['skyblue', 'gold', 'tab:green', 'tab:red']


for i in range(len(clouds)):
    cloud = clouds[i]
    the_color = cloud_colors[i]
    bm = cloud['biomass_maintenance']
    print(numpy.min(bm), numpy.max(bm))
    hist, bin_edges = numpy.histogram(bm, bins=200, range=(143, 155), density=True)
    half_bin = (bin_edges[1] - bin_edges[0])/2
    x = bin_edges + half_bin
    x = x[:-1]

    #
    matplotlib.pyplot.plot(x, hist, 'o', alpha=1/2, color=the_color, mec='none', label=cloud_names[i])

    # 
    yhat = scipy.signal.savgol_filter(hist, 51, 3)
    matplotlib.pyplot.plot(x, yhat, '-', lw=1, alpha=1)

matplotlib.pyplot.xlabel('biomass_maintenance')
matplotlib.pyplot.ylabel('Density')
matplotlib.pyplot.grid(ls=':')
matplotlib.pyplot.legend(fontsize=12)
matplotlib.pyplot.ylim(-0.01, 1)
matplotlib.pyplot.xlim(142.5, 155.5)

matplotlib.pyplot.tight_layout()
matplotlib.pyplot.show()





co = model.problem.Constraint(model.reactions.Biomass_Ecoli_core.flux_expression, lb=0.1)
model.add_cons_vars([co])


# re-sampling


# visualization after resampling
