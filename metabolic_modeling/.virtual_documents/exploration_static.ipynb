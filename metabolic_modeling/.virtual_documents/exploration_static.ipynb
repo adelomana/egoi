import numpy, time


import cobra, cobra.io, cobra.sampling
import scipy, scipy.signal


import matplotlib, matplotlib.pyplot
matplotlib.rcParams.update({'font.size':20, 
                            'xtick.labelsize':20, 
                            'ytick.labelsize':20, 
                            'axes.labelsize':20, 
                            'figure.figsize':(12 * 0.6, 9 * 0.6)})





threads = 4
results_folder = '/Users/adrian/research/hegoi/results'


resolutions = 2**numpy.arange(10, 21, 1)
print(resolutions)


# resolutions = 2**numpy.arange(10, 15, 1)
# print(resolutions)





%%time
model = cobra.io.read_sbml_model('model_out_Static_90.sbml.xml')
solution = model.optimize()


print(type(model.solver))

print(solution.fluxes['biomass_maintenance'])

model.reactions.biomass_maintenance











%%time

for resolution in resolutions:

    before = time.process_time()
    
    cloud = cobra.sampling.sample(model, resolution, processes=threads)
    filename = '{}/static.optgp.{}.feather'.format(results_folder, resolution)
    cloud.to_feather(filename)
    
    after = time.process_time()
    elapsed_time = after - before
    print('Process time for resolution {} is {} seconds'.format(resolution, int(elapsed_time)))





%%time

for resolution in resolutions:

    before = time.process_time()
    
    cloud = cobra.sampling.sample(model, resolution, method="achr")
    filename = '{}/static.achr.{}.feather'.format(results_folder, resolution)
    cloud.to_csv(filename)
    
    after = time.process_time()
    elapsed_time = after - before
    print('Process time for resolution {} is {} seconds'.format(resolution, int(elapsed_time)))
