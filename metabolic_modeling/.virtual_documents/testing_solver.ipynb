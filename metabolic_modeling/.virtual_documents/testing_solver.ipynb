import cobra, cobra.core


import cplex


%%time
model = cobra.io.read_sbml_model('model_out_Static_90.sbml.xml')
solution = model.optimize()


model.solver


colb = model.problem.Constraint(model.reactions.biomass_maintenance.flux_expression, lb=1)
#coup = model.problem.Constraint(model.reactions.biomass_maintenance.flux_expression, ub=top)

model.add_cons_vars([colb])


%%time
cloud = cobra.sampling.sample(model, 100)
cloud.head()
