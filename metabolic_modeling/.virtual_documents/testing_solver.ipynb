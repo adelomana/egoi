import cobra, cobra.core


import matplotlib, matplotlib.pyplot
matplotlib.rcParams.update({'font.size':20, 
                            'xtick.labelsize':20, 
                            'ytick.labelsize':20, 
                            'axes.labelsize':20, 
                            'figure.figsize':(12 * 0.6, 9 * 0.6)})


%%time
model = cobra.io.read_sbml_model('model_out_Static_90.sbml.xml')
solution = model.optimize()


model.solver


%%time
cloud1 = cobra.sampling.sample(model, 1000, processes=8)
cloud1.head()


model.reactions.biomass_maintenance


model.reactions.biomass_maintenance.lower_bound = 100


model.reactions.biomass_maintenance


%%time
cloud2 = cobra.sampling.sample(model, 1000, processes=8)
cloud2.head()


a = cloud1['biomass_maintenance']
b = cloud2['biomass_maintenance']
data = [a, b]
matplotlib.pyplot.boxplot([a, b])
matplotlib.pyplot.show()
