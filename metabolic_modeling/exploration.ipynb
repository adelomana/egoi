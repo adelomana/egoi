{
 "cells": [
  {
   "cell_type": "code",
   "execution_count": 1,
   "id": "55ec9f45-ae2a-44c5-9bce-2e93da31099f",
   "metadata": {},
   "outputs": [],
   "source": [
    "import numpy"
   ]
  },
  {
   "cell_type": "code",
   "execution_count": 2,
   "id": "7622c9fc-9264-4ecb-bcd9-7bb8ae43424d",
   "metadata": {},
   "outputs": [],
   "source": [
    "import cobra, cobra.io, cobra.sampling\n",
    "import scipy, scipy.signal"
   ]
  },
  {
   "cell_type": "code",
   "execution_count": 3,
   "id": "03b23969-f83e-4ba4-883f-a97f63652669",
   "metadata": {},
   "outputs": [],
   "source": [
    "import matplotlib, matplotlib.pyplot\n",
    "matplotlib.rcParams.update({'font.size':20, \n",
    "                            'xtick.labelsize':20, \n",
    "                            'ytick.labelsize':20, \n",
    "                            'axes.labelsize':20, \n",
    "                            'figure.figsize':(12 * 0.6, 9 * 0.6)})"
   ]
  },
  {
   "cell_type": "markdown",
   "id": "82b941c6-942c-41b7-b4f4-17436160eb30",
   "metadata": {},
   "source": [
    "# user-defined variables"
   ]
  },
  {
   "cell_type": "code",
   "execution_count": 4,
   "id": "67ded65b-ee46-444a-a23a-ed0e481071fc",
   "metadata": {},
   "outputs": [],
   "source": [
    "low_number_of_points = 100\n",
    "high_number_of_points = 10000\n",
    "threads = 4"
   ]
  },
  {
   "cell_type": "markdown",
   "id": "77b86834-eed4-430b-acd6-18e520ffa314",
   "metadata": {},
   "source": [
    "# read the model"
   ]
  },
  {
   "cell_type": "code",
   "execution_count": 5,
   "id": "4c82ef52-7fe3-4ef7-baa9-373f50a7b179",
   "metadata": {},
   "outputs": [
    {
     "name": "stderr",
     "output_type": "stream",
     "text": [
      "No objective in listOfObjectives\n",
      "No objective coefficients in model. Unclear what should be optimized\n"
     ]
    },
    {
     "name": "stdout",
     "output_type": "stream",
     "text": [
      "CPU times: user 7.51 s, sys: 292 ms, total: 7.8 s\n",
      "Wall time: 7.82 s\n"
     ]
    }
   ],
   "source": [
    "%%time\n",
    "model = cobra.io.read_sbml_model('model_out_Static_90.sbml.xml')\n",
    "solution = model.optimize()"
   ]
  },
  {
   "cell_type": "code",
   "execution_count": 6,
   "id": "2bf114c7-1e9f-47b5-96fa-218eec5ff6c7",
   "metadata": {},
   "outputs": [
    {
     "name": "stdout",
     "output_type": "stream",
     "text": [
      "<class 'optlang.cplex_interface.Model'>\n",
      "143.582775499576\n"
     ]
    },
    {
     "data": {
      "text/html": [
       "\n",
       "        <table>\n",
       "            <tr>\n",
       "                <td><strong>Reaction identifier</strong></td><td>biomass_maintenance</td>\n",
       "            </tr><tr>\n",
       "                <td><strong>Name</strong></td><td>Biomass maintenance reaction without replication precursors</td>\n",
       "            </tr><tr>\n",
       "                <td><strong>Memory address</strong></td>\n",
       "                <td>0x2b2e1b110</td>\n",
       "            </tr><tr>\n",
       "                <td><strong>Stoichiometry</strong></td>\n",
       "                <td>\n",
       "                    <p style='text-align:right'>0.50563 ala_L[c] + 0.35926 arg_L[c] + 0.27942 asn_L[c] + 0.35261 asp_L[c] + 20.7045 atp[c] + 0.020401 chsterol[c] + 0.011658 clpn_hs[c] + 0.039036 ctp[c] + 0.046571 cys_L[c] + 0.27519 g6p[c] +...</p>\n",
       "                    <p style='text-align:right'>0.50563 L-Alanine + 0.35926 L-Arginine + 0.27942 L-Asparagine + 0.35261 L-Aspartate + 20.7045 Adenosine Triphosphate + 0.020401 Cholesterol + 0.011658 Cardiolipin + 0.039036...</p>\n",
       "                </td>\n",
       "            </tr><tr>\n",
       "                <td><strong>GPR</strong></td><td></td>\n",
       "            </tr><tr>\n",
       "                <td><strong>Lower bound</strong></td><td>143.582775499576</td>\n",
       "            </tr><tr>\n",
       "                <td><strong>Upper bound</strong></td><td>1000.0</td>\n",
       "            </tr>\n",
       "        </table>\n",
       "        "
      ],
      "text/plain": [
       "<Reaction biomass_maintenance at 0x2b2e1b110>"
      ]
     },
     "execution_count": 6,
     "metadata": {},
     "output_type": "execute_result"
    }
   ],
   "source": [
    "print(type(model.solver))\n",
    "\n",
    "print(solution.fluxes['biomass_maintenance'])\n",
    "\n",
    "model.reactions.biomass_maintenance"
   ]
  },
  {
   "cell_type": "markdown",
   "id": "edfd2e3f-c7ef-4e5d-b589-4911955c2837",
   "metadata": {},
   "source": [
    "Why 143 and not 159?"
   ]
  },
  {
   "cell_type": "markdown",
   "id": "caf92f97-1b2b-46d7-b961-87b1b45f6503",
   "metadata": {},
   "source": [
    "# random sampling"
   ]
  },
  {
   "cell_type": "markdown",
   "id": "1e33f34a-84e4-444b-8ad0-51ec2feced8c",
   "metadata": {},
   "source": [
    "## optgp method"
   ]
  },
  {
   "cell_type": "code",
   "execution_count": 7,
   "id": "76128339-4ec4-4a13-819c-a8d0f9800742",
   "metadata": {},
   "outputs": [
    {
     "name": "stdout",
     "output_type": "stream",
     "text": [
      "CPU times: user 6min 43s, sys: 5.04 s, total: 6min 48s\n",
      "Wall time: 4min 2s\n"
     ]
    },
    {
     "data": {
      "text/html": [
       "<div>\n",
       "<style scoped>\n",
       "    .dataframe tbody tr th:only-of-type {\n",
       "        vertical-align: middle;\n",
       "    }\n",
       "\n",
       "    .dataframe tbody tr th {\n",
       "        vertical-align: top;\n",
       "    }\n",
       "\n",
       "    .dataframe thead th {\n",
       "        text-align: right;\n",
       "    }\n",
       "</style>\n",
       "<table border=\"1\" class=\"dataframe\">\n",
       "  <thead>\n",
       "    <tr style=\"text-align: right;\">\n",
       "      <th></th>\n",
       "      <th>10FTHF7GLUtl</th>\n",
       "      <th>10FTHF7GLUtm</th>\n",
       "      <th>10FTHFtl</th>\n",
       "      <th>13DAMPPOX</th>\n",
       "      <th>2AMADPTm</th>\n",
       "      <th>2HBO</th>\n",
       "      <th>2HBt2</th>\n",
       "      <th>2OXOADOXm</th>\n",
       "      <th>2OXOADPTm</th>\n",
       "      <th>34DHOXPEGOX</th>\n",
       "      <th>...</th>\n",
       "      <th>sink_asp_L[c]</th>\n",
       "      <th>sink_glu_L[c]</th>\n",
       "      <th>sink_pro_L[c]</th>\n",
       "      <th>sink_ser_L[c]</th>\n",
       "      <th>sink_gly[c]</th>\n",
       "      <th>sink_4abut[l]</th>\n",
       "      <th>DM_4glu56dihdind[c]</th>\n",
       "      <th>DM_4abut[c]</th>\n",
       "      <th>DM_btn[m]</th>\n",
       "      <th>DCMPtm</th>\n",
       "    </tr>\n",
       "  </thead>\n",
       "  <tbody>\n",
       "    <tr>\n",
       "      <th>0</th>\n",
       "      <td>0.002105</td>\n",
       "      <td>0.002032</td>\n",
       "      <td>-0.002105</td>\n",
       "      <td>0.001995</td>\n",
       "      <td>0.000711</td>\n",
       "      <td>0.000514</td>\n",
       "      <td>-896.444574</td>\n",
       "      <td>0.002198</td>\n",
       "      <td>0.001802</td>\n",
       "      <td>-0.001840</td>\n",
       "      <td>...</td>\n",
       "      <td>855.732135</td>\n",
       "      <td>-999.962451</td>\n",
       "      <td>-994.500835</td>\n",
       "      <td>11.318552</td>\n",
       "      <td>-994.152278</td>\n",
       "      <td>-0.015525</td>\n",
       "      <td>0.018720</td>\n",
       "      <td>0.029587</td>\n",
       "      <td>0.022727</td>\n",
       "      <td>-920.145740</td>\n",
       "    </tr>\n",
       "    <tr>\n",
       "      <th>1</th>\n",
       "      <td>0.002155</td>\n",
       "      <td>0.002082</td>\n",
       "      <td>-0.002155</td>\n",
       "      <td>0.001946</td>\n",
       "      <td>0.000681</td>\n",
       "      <td>0.000663</td>\n",
       "      <td>-896.478453</td>\n",
       "      <td>0.002362</td>\n",
       "      <td>0.001995</td>\n",
       "      <td>-0.001840</td>\n",
       "      <td>...</td>\n",
       "      <td>855.739532</td>\n",
       "      <td>-999.966436</td>\n",
       "      <td>-994.503055</td>\n",
       "      <td>11.326084</td>\n",
       "      <td>-994.147058</td>\n",
       "      <td>-0.016346</td>\n",
       "      <td>0.017302</td>\n",
       "      <td>0.030359</td>\n",
       "      <td>0.024637</td>\n",
       "      <td>-920.142995</td>\n",
       "    </tr>\n",
       "    <tr>\n",
       "      <th>2</th>\n",
       "      <td>0.001430</td>\n",
       "      <td>0.001357</td>\n",
       "      <td>-0.001430</td>\n",
       "      <td>0.001946</td>\n",
       "      <td>0.000913</td>\n",
       "      <td>-0.000175</td>\n",
       "      <td>-896.470944</td>\n",
       "      <td>0.002245</td>\n",
       "      <td>0.001645</td>\n",
       "      <td>-0.001681</td>\n",
       "      <td>...</td>\n",
       "      <td>855.756630</td>\n",
       "      <td>-999.971554</td>\n",
       "      <td>-994.512114</td>\n",
       "      <td>11.316535</td>\n",
       "      <td>-994.154612</td>\n",
       "      <td>-0.015678</td>\n",
       "      <td>0.015834</td>\n",
       "      <td>0.023386</td>\n",
       "      <td>0.020846</td>\n",
       "      <td>-920.136187</td>\n",
       "    </tr>\n",
       "    <tr>\n",
       "      <th>3</th>\n",
       "      <td>0.423215</td>\n",
       "      <td>0.371722</td>\n",
       "      <td>-0.423215</td>\n",
       "      <td>1.027245</td>\n",
       "      <td>0.533079</td>\n",
       "      <td>0.684935</td>\n",
       "      <td>339.497118</td>\n",
       "      <td>1.549836</td>\n",
       "      <td>1.238229</td>\n",
       "      <td>-1.047247</td>\n",
       "      <td>...</td>\n",
       "      <td>927.360238</td>\n",
       "      <td>-990.197149</td>\n",
       "      <td>-942.138970</td>\n",
       "      <td>612.864261</td>\n",
       "      <td>-540.811529</td>\n",
       "      <td>-9.733805</td>\n",
       "      <td>1.931266</td>\n",
       "      <td>17.332611</td>\n",
       "      <td>8.844045</td>\n",
       "      <td>-964.975432</td>\n",
       "    </tr>\n",
       "    <tr>\n",
       "      <th>4</th>\n",
       "      <td>0.424457</td>\n",
       "      <td>0.373004</td>\n",
       "      <td>-0.424457</td>\n",
       "      <td>1.044354</td>\n",
       "      <td>0.342614</td>\n",
       "      <td>-1.268736</td>\n",
       "      <td>349.937448</td>\n",
       "      <td>1.558458</td>\n",
       "      <td>1.437143</td>\n",
       "      <td>-1.097246</td>\n",
       "      <td>...</td>\n",
       "      <td>928.529060</td>\n",
       "      <td>-990.586541</td>\n",
       "      <td>-941.533761</td>\n",
       "      <td>604.950738</td>\n",
       "      <td>-534.761636</td>\n",
       "      <td>-8.376665</td>\n",
       "      <td>1.961282</td>\n",
       "      <td>18.061019</td>\n",
       "      <td>8.668252</td>\n",
       "      <td>-963.323037</td>\n",
       "    </tr>\n",
       "  </tbody>\n",
       "</table>\n",
       "<p>5 rows × 4604 columns</p>\n",
       "</div>"
      ],
      "text/plain": [
       "   10FTHF7GLUtl  10FTHF7GLUtm  10FTHFtl  13DAMPPOX  2AMADPTm      2HBO  \\\n",
       "0      0.002105      0.002032 -0.002105   0.001995  0.000711  0.000514   \n",
       "1      0.002155      0.002082 -0.002155   0.001946  0.000681  0.000663   \n",
       "2      0.001430      0.001357 -0.001430   0.001946  0.000913 -0.000175   \n",
       "3      0.423215      0.371722 -0.423215   1.027245  0.533079  0.684935   \n",
       "4      0.424457      0.373004 -0.424457   1.044354  0.342614 -1.268736   \n",
       "\n",
       "        2HBt2  2OXOADOXm  2OXOADPTm  34DHOXPEGOX  ...  sink_asp_L[c]  \\\n",
       "0 -896.444574   0.002198   0.001802    -0.001840  ...     855.732135   \n",
       "1 -896.478453   0.002362   0.001995    -0.001840  ...     855.739532   \n",
       "2 -896.470944   0.002245   0.001645    -0.001681  ...     855.756630   \n",
       "3  339.497118   1.549836   1.238229    -1.047247  ...     927.360238   \n",
       "4  349.937448   1.558458   1.437143    -1.097246  ...     928.529060   \n",
       "\n",
       "   sink_glu_L[c]  sink_pro_L[c]  sink_ser_L[c]  sink_gly[c]  sink_4abut[l]  \\\n",
       "0    -999.962451    -994.500835      11.318552  -994.152278      -0.015525   \n",
       "1    -999.966436    -994.503055      11.326084  -994.147058      -0.016346   \n",
       "2    -999.971554    -994.512114      11.316535  -994.154612      -0.015678   \n",
       "3    -990.197149    -942.138970     612.864261  -540.811529      -9.733805   \n",
       "4    -990.586541    -941.533761     604.950738  -534.761636      -8.376665   \n",
       "\n",
       "   DM_4glu56dihdind[c]  DM_4abut[c]  DM_btn[m]      DCMPtm  \n",
       "0             0.018720     0.029587   0.022727 -920.145740  \n",
       "1             0.017302     0.030359   0.024637 -920.142995  \n",
       "2             0.015834     0.023386   0.020846 -920.136187  \n",
       "3             1.931266    17.332611   8.844045 -964.975432  \n",
       "4             1.961282    18.061019   8.668252 -963.323037  \n",
       "\n",
       "[5 rows x 4604 columns]"
      ]
     },
     "execution_count": 7,
     "metadata": {},
     "output_type": "execute_result"
    }
   ],
   "source": [
    "%%time\n",
    "cloud = cobra.sampling.sample(model, low_number_of_points)\n",
    "cloud.head()"
   ]
  },
  {
   "cell_type": "code",
   "execution_count": 8,
   "id": "44779945-8da9-4166-8ba5-a610d78fb015",
   "metadata": {},
   "outputs": [
    {
     "name": "stdout",
     "output_type": "stream",
     "text": [
      "CPU times: user 6min 45s, sys: 7.42 s, total: 6min 52s\n",
      "Wall time: 4min 8s\n"
     ]
    }
   ],
   "source": [
    "%%time\n",
    "optgp_cloud_low = cobra.sampling.sample(model, low_number_of_points, processes=threads)"
   ]
  },
  {
   "cell_type": "code",
   "execution_count": 9,
   "id": "809cfe9a-7a21-4769-8b7c-9e6171380947",
   "metadata": {},
   "outputs": [
    {
     "name": "stdout",
     "output_type": "stream",
     "text": [
      "CPU times: user 10min 24s, sys: 26 s, total: 10min 50s\n",
      "Wall time: 8min 1s\n"
     ]
    }
   ],
   "source": [
    "%%time\n",
    "cloud = cobra.sampling.sample(model, high_number_of_points)"
   ]
  },
  {
   "cell_type": "code",
   "execution_count": 10,
   "id": "82cc2882-4ca3-47fa-9233-74d301c47e97",
   "metadata": {},
   "outputs": [
    {
     "name": "stdout",
     "output_type": "stream",
     "text": [
      "CPU times: user 6min 45s, sys: 8.21 s, total: 6min 53s\n",
      "Wall time: 5min 25s\n"
     ]
    }
   ],
   "source": [
    "%%time\n",
    "optgp_cloud_high = cobra.sampling.sample(model, high_number_of_points, processes=threads)"
   ]
  },
  {
   "cell_type": "markdown",
   "id": "bf36e01a-a9ac-4b64-bc24-fe0f204abb17",
   "metadata": {},
   "source": [
    "Conclusions:\n",
    "- Multiple threading has no substantial effect, the parallel part is minimal. Efficiency will be maximal in low parallel environments.\n",
    "- Asking for 100 or 10,000 has not substantial effect on computational time."
   ]
  },
  {
   "cell_type": "markdown",
   "id": "f92656aa-5c74-422e-82e4-34d623c671ee",
   "metadata": {},
   "source": [
    "## achr method\n",
    "It does not accept multiple threads."
   ]
  },
  {
   "cell_type": "code",
   "execution_count": 11,
   "id": "58f58ede-7e36-4414-9451-21f2a4d65958",
   "metadata": {},
   "outputs": [
    {
     "name": "stdout",
     "output_type": "stream",
     "text": [
      "CPU times: user 6min 46s, sys: 6.76 s, total: 6min 52s\n",
      "Wall time: 4min 7s\n"
     ]
    }
   ],
   "source": [
    "%%time\n",
    "achr_cloud_low = cobra.sampling.sample(model, low_number_of_points, method=\"achr\")"
   ]
  },
  {
   "cell_type": "code",
   "execution_count": 12,
   "id": "9090a4ec-b81d-445a-be3e-2ee7fa4b9c4c",
   "metadata": {},
   "outputs": [
    {
     "name": "stdout",
     "output_type": "stream",
     "text": [
      "CPU times: user 10min 29s, sys: 7.18 s, total: 10min 36s\n",
      "Wall time: 7min 44s\n"
     ]
    }
   ],
   "source": [
    "%%time\n",
    "achr_cloud_high = cobra.sampling.sample(model, high_number_of_points, method=\"achr\")"
   ]
  },
  {
   "cell_type": "markdown",
   "id": "96563220-0f1a-4874-9400-8a843cf48efd",
   "metadata": {},
   "source": [
    "# storage"
   ]
  },
  {
   "cell_type": "code",
   "execution_count": 13,
   "id": "9442c980-b306-4ea5-a62b-f4be44ccf287",
   "metadata": {},
   "outputs": [],
   "source": [
    "clouds = [optgp_cloud_low, optgp_cloud_high, achr_cloud_low, achr_cloud_high]\n",
    "cloud_names = ['optgp_cloud_low', 'optgp_cloud_high', 'achr_cloud_low', 'achr_cloud_high']\n",
    "\n",
    "for i in range(len(clouds)):\n",
    "    clouds[i].to_csv(cloud_names[i], sep='\\t')    "
   ]
  },
  {
   "cell_type": "markdown",
   "id": "4d2f579b-6997-485a-a0dc-f71bc86c35c1",
   "metadata": {},
   "source": [
    "# visualization"
   ]
  },
  {
   "cell_type": "code",
   "execution_count": 14,
   "id": "0ffc6e44-bcb9-4062-859e-40917d31ec3f",
   "metadata": {},
   "outputs": [],
   "source": [
    "cloud_colors = ['skyblue', 'gold', 'tab:green', 'tab:red']"
   ]
  },
  {
   "cell_type": "code",
   "execution_count": 15,
   "id": "16bc0d32-bebb-4175-a635-d9f8bd8e63ff",
   "metadata": {},
   "outputs": [
    {
     "name": "stdout",
     "output_type": "stream",
     "text": [
      "143.5827830553775 143.614484940973\n",
      "143.58277748627745 144.00285087138911\n",
      "143.58277702961723 143.59059079990794\n",
      "143.58277566958725 145.87080239095604\n"
     ]
    },
    {
     "data": {
      "image/png": "[encoded data removed]",
      "text/plain": [
       "<Figure size 720x540 with 1 Axes>"
      ]
     },
     "metadata": {},
     "output_type": "display_data"
    }
   ],
   "source": [
    "for i in range(len(clouds)):\n",
    "    cloud = clouds[i]\n",
    "    the_color = cloud_colors[i]\n",
    "    bm = cloud['biomass_maintenance']\n",
    "    print(numpy.min(bm), numpy.max(bm))\n",
    "    hist, bin_edges = numpy.histogram(bm, bins=200, range=(143, 155), density=True)\n",
    "    half_bin = (bin_edges[1] - bin_edges[0])/2\n",
    "    x = bin_edges + half_bin\n",
    "    x = x[:-1]\n",
    "\n",
    "    # plot points\n",
    "    matplotlib.pyplot.plot(x, hist, 'o', alpha=1/2, color=the_color, mec='none')\n",
    "\n",
    "    # fit and plot line\n",
    "    yhat = scipy.signal.savgol_filter(hist, 51, 3)\n",
    "    matplotlib.pyplot.plot(x, yhat, '-', lw=1, color=the_color, label=cloud_names[i])\n",
    "\n",
    "matplotlib.pyplot.xlabel('biomass_maintenance')\n",
    "matplotlib.pyplot.ylabel('Density')\n",
    "matplotlib.pyplot.grid(ls=':')\n",
    "matplotlib.pyplot.legend(fontsize=12)\n",
    "matplotlib.pyplot.ylim(-0.01, 1)\n",
    "matplotlib.pyplot.xlim(142.5, 155.5)\n",
    "\n",
    "matplotlib.pyplot.tight_layout()\n",
    "matplotlib.pyplot.show()"
   ]
  },
  {
   "cell_type": "markdown",
   "id": "42b4142c-a2e9-4e6a-88f6-ff03db318cf0",
   "metadata": {},
   "source": [
    "# adding constrains"
   ]
  },
  {
   "cell_type": "code",
   "execution_count": 16,
   "id": "3487a52a-cbaa-4b80-8ddb-b3799cf6d558",
   "metadata": {},
   "outputs": [
    {
     "name": "stdout",
     "output_type": "stream",
     "text": [
      "143.582775499576\n",
      "129.2244979496184\n"
     ]
    }
   ],
   "source": [
    "print(solution.fluxes['biomass_maintenance'])\n",
    "bottom = solution.fluxes['biomass_maintenance']*0.90\n",
    "print(bottom)"
   ]
  },
  {
   "cell_type": "code",
   "execution_count": 17,
   "id": "b5cd68a5-d4d9-460c-9b27-6f7c23106deb",
   "metadata": {},
   "outputs": [
    {
     "data": {
      "text/html": [
       "\n",
       "        <table>\n",
       "            <tr>\n",
       "                <td><strong>Reaction identifier</strong></td><td>biomass_maintenance</td>\n",
       "            </tr><tr>\n",
       "                <td><strong>Name</strong></td><td>Biomass maintenance reaction without replication precursors</td>\n",
       "            </tr><tr>\n",
       "                <td><strong>Memory address</strong></td>\n",
       "                <td>0x2b2e1b110</td>\n",
       "            </tr><tr>\n",
       "                <td><strong>Stoichiometry</strong></td>\n",
       "                <td>\n",
       "                    <p style='text-align:right'>0.50563 ala_L[c] + 0.35926 arg_L[c] + 0.27942 asn_L[c] + 0.35261 asp_L[c] + 20.7045 atp[c] + 0.020401 chsterol[c] + 0.011658 clpn_hs[c] + 0.039036 ctp[c] + 0.046571 cys_L[c] + 0.27519 g6p[c] +...</p>\n",
       "                    <p style='text-align:right'>0.50563 L-Alanine + 0.35926 L-Arginine + 0.27942 L-Asparagine + 0.35261 L-Aspartate + 20.7045 Adenosine Triphosphate + 0.020401 Cholesterol + 0.011658 Cardiolipin + 0.039036...</p>\n",
       "                </td>\n",
       "            </tr><tr>\n",
       "                <td><strong>GPR</strong></td><td></td>\n",
       "            </tr><tr>\n",
       "                <td><strong>Lower bound</strong></td><td>143.582775499576</td>\n",
       "            </tr><tr>\n",
       "                <td><strong>Upper bound</strong></td><td>1000.0</td>\n",
       "            </tr>\n",
       "        </table>\n",
       "        "
      ],
      "text/plain": [
       "<Reaction biomass_maintenance at 0x2b2e1b110>"
      ]
     },
     "execution_count": 17,
     "metadata": {},
     "output_type": "execute_result"
    }
   ],
   "source": [
    "model.reactions.biomass_maintenance"
   ]
  },
  {
   "cell_type": "code",
   "execution_count": 18,
   "id": "a911d0ab-b041-4dd4-bb46-00859aede89e",
   "metadata": {},
   "outputs": [],
   "source": [
    "model.reactions.biomass_maintenance.lower_bound = bottom"
   ]
  },
  {
   "cell_type": "code",
   "execution_count": 19,
   "id": "0c79db94-572e-4b89-92bc-708c7578a172",
   "metadata": {},
   "outputs": [
    {
     "data": {
      "text/html": [
       "\n",
       "        <table>\n",
       "            <tr>\n",
       "                <td><strong>Reaction identifier</strong></td><td>biomass_maintenance</td>\n",
       "            </tr><tr>\n",
       "                <td><strong>Name</strong></td><td>Biomass maintenance reaction without replication precursors</td>\n",
       "            </tr><tr>\n",
       "                <td><strong>Memory address</strong></td>\n",
       "                <td>0x2b2e1b110</td>\n",
       "            </tr><tr>\n",
       "                <td><strong>Stoichiometry</strong></td>\n",
       "                <td>\n",
       "                    <p style='text-align:right'>0.50563 ala_L[c] + 0.35926 arg_L[c] + 0.27942 asn_L[c] + 0.35261 asp_L[c] + 20.7045 atp[c] + 0.020401 chsterol[c] + 0.011658 clpn_hs[c] + 0.039036 ctp[c] + 0.046571 cys_L[c] + 0.27519 g6p[c] +...</p>\n",
       "                    <p style='text-align:right'>0.50563 L-Alanine + 0.35926 L-Arginine + 0.27942 L-Asparagine + 0.35261 L-Aspartate + 20.7045 Adenosine Triphosphate + 0.020401 Cholesterol + 0.011658 Cardiolipin + 0.039036...</p>\n",
       "                </td>\n",
       "            </tr><tr>\n",
       "                <td><strong>GPR</strong></td><td></td>\n",
       "            </tr><tr>\n",
       "                <td><strong>Lower bound</strong></td><td>129.2244979496184</td>\n",
       "            </tr><tr>\n",
       "                <td><strong>Upper bound</strong></td><td>1000.0</td>\n",
       "            </tr>\n",
       "        </table>\n",
       "        "
      ],
      "text/plain": [
       "<Reaction biomass_maintenance at 0x2b2e1b110>"
      ]
     },
     "execution_count": 19,
     "metadata": {},
     "output_type": "execute_result"
    }
   ],
   "source": [
    "model.reactions.biomass_maintenance"
   ]
  },
  {
   "cell_type": "markdown",
   "id": "c5acd85c-cd74-4cc4-8b0b-274d3a6a27c4",
   "metadata": {},
   "source": [
    "# re-sampling"
   ]
  },
  {
   "cell_type": "code",
   "execution_count": 20,
   "id": "fbed14e5-da89-492d-b892-d6ba44777bd9",
   "metadata": {},
   "outputs": [
    {
     "name": "stdout",
     "output_type": "stream",
     "text": [
      "CPU times: user 6min 58s, sys: 8.23 s, total: 7min 6s\n",
      "Wall time: 5min 39s\n"
     ]
    }
   ],
   "source": [
    "%%time\n",
    "optgp_cloud_high_constrained = cobra.sampling.sample(model, high_number_of_points, processes=threads)"
   ]
  },
  {
   "cell_type": "code",
   "execution_count": 21,
   "id": "a1535631-05f0-4e1b-9057-c45e0fee544b",
   "metadata": {},
   "outputs": [
    {
     "name": "stdout",
     "output_type": "stream",
     "text": [
      "CPU times: user 10min 51s, sys: 6.43 s, total: 10min 57s\n",
      "Wall time: 7min 58s\n"
     ]
    }
   ],
   "source": [
    "%%time\n",
    "achr_cloud_high_constrained = cobra.sampling.sample(model, high_number_of_points, method=\"achr\")"
   ]
  },
  {
   "cell_type": "markdown",
   "id": "87b3d9c8-4f6d-448e-843f-0c860558f382",
   "metadata": {},
   "source": [
    "# visualization after resampling"
   ]
  },
  {
   "cell_type": "code",
   "execution_count": 22,
   "id": "69b8ff04-0abe-4406-bac6-1abf8b5694bc",
   "metadata": {},
   "outputs": [
    {
     "name": "stderr",
     "output_type": "stream",
     "text": [
      "No artists with labels found to put in legend.  Note that artists whose label start with an underscore are ignored when legend() is called with no argument.\n"
     ]
    },
    {
     "data": {
      "image/png": "[encoded data removed]",
      "text/plain": [
       "<Figure size 720x540 with 1 Axes>"
      ]
     },
     "metadata": {},
     "output_type": "display_data"
    }
   ],
   "source": [
    "a = optgp_cloud_high['biomass_maintenance']\n",
    "b = achr_cloud_high['biomass_maintenance']\n",
    "c = optgp_cloud_high_constrained['biomass_maintenance']\n",
    "d = achr_cloud_high_constrained['biomass_maintenance']\n",
    "data = [a, b, c, d]\n",
    "\n",
    "matplotlib.pyplot.boxplot(data, notch=True, patch_artist=True)\n",
    "\n",
    "matplotlib.pyplot.grid(ls=':')\n",
    "matplotlib.pyplot.legend(fontsize=12)\n",
    "matplotlib.pyplot.ylabel('Biomass maintenance flux')\n",
    "\n",
    "matplotlib.pyplot.tight_layout()\n",
    "matplotlib.pyplot.show()"
   ]
  }
 ],
 "metadata": {
  "kernelspec": {
   "display_name": "Python 3 (ipykernel)",
   "language": "python",
   "name": "python3"
  },
  "language_info": {
   "codemirror_mode": {
    "name": "ipython",
    "version": 3
   },
   "file_extension": ".py",
   "mimetype": "text/x-python",
   "name": "python",
   "nbconvert_exporter": "python",
   "pygments_lexer": "ipython3",
   "version": "3.11.6"
  }
 },
 "nbformat": 4,
 "nbformat_minor": 5
}
