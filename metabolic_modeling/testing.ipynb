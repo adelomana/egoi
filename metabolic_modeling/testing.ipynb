{
 "cells": [
  {
   "cell_type": "code",
   "execution_count": 14,
   "id": "4fb4e0bf-7872-4d1d-8eca-b43c75eaf185",
   "metadata": {},
   "outputs": [],
   "source": [
    "import cobra, cobra.core"
   ]
  },
  {
   "cell_type": "code",
   "execution_count": 15,
   "id": "21f17c9e-579c-4596-9e3c-baabecc8e62c",
   "metadata": {},
   "outputs": [],
   "source": [
    "import matplotlib, matplotlib.pyplot\n",
    "matplotlib.rcParams.update({'font.size':20, \n",
    "                            'xtick.labelsize':20, \n",
    "                            'ytick.labelsize':20, \n",
    "                            'axes.labelsize':20, \n",
    "                            'figure.figsize':(12 * 0.6, 9 * 0.6)})"
   ]
  },
  {
   "cell_type": "code",
   "execution_count": 16,
   "id": "595e870b-3123-4d91-ba6f-c07ff7a00066",
   "metadata": {},
   "outputs": [
    {
     "name": "stderr",
     "output_type": "stream",
     "text": [
      "No objective in listOfObjectives\n",
      "No objective coefficients in model. Unclear what should be optimized\n"
     ]
    },
    {
     "name": "stdout",
     "output_type": "stream",
     "text": [
      "CPU times: user 7.48 s, sys: 277 ms, total: 7.76 s\n",
      "Wall time: 7.79 s\n"
     ]
    }
   ],
   "source": [
    "%%time\n",
    "model = cobra.io.read_sbml_model('model_out_Static_90.sbml.xml')\n",
    "solution = model.optimize()"
   ]
  },
  {
   "cell_type": "code",
   "execution_count": 17,
   "id": "19411284-24b5-4ae1-8399-358dcfb92a30",
   "metadata": {},
   "outputs": [
    {
     "data": {
      "text/plain": [
       "<optlang.cplex_interface.Model at 0x158907910>"
      ]
     },
     "execution_count": 17,
     "metadata": {},
     "output_type": "execute_result"
    }
   ],
   "source": [
    "model.solver"
   ]
  },
  {
   "cell_type": "code",
   "execution_count": null,
   "id": "13ba3aa8-01bf-4759-88ce-b8788365bee7",
   "metadata": {},
   "outputs": [],
   "source": [
    "%%time\n",
    "cloud1 = cobra.sampling.sample(model, 1000, processes=8)\n",
    "cloud1.head()"
   ]
  },
  {
   "cell_type": "code",
   "execution_count": null,
   "id": "2c7a7ac7-de4a-4d69-b377-03cddb7a0e9d",
   "metadata": {},
   "outputs": [],
   "source": [
    "model.reactions.biomass_maintenance"
   ]
  },
  {
   "cell_type": "code",
   "execution_count": null,
   "id": "4aee892b-cedf-4e36-ba78-1581333c7955",
   "metadata": {},
   "outputs": [],
   "source": [
    "model.reactions.biomass_maintenance.lower_bound = 100"
   ]
  },
  {
   "cell_type": "code",
   "execution_count": null,
   "id": "dd3a1db5-3c90-439f-a063-622ae464b90f",
   "metadata": {},
   "outputs": [],
   "source": [
    "model.reactions.biomass_maintenance"
   ]
  },
  {
   "cell_type": "code",
   "execution_count": null,
   "id": "a9996ec9-e649-4047-8ca8-9c3db0fc0249",
   "metadata": {},
   "outputs": [],
   "source": [
    "%%time\n",
    "cloud2 = cobra.sampling.sample(model, 1000, processes=8)\n",
    "cloud2.head()"
   ]
  },
  {
   "cell_type": "code",
   "execution_count": null,
   "id": "4b9d1375-261b-4ec7-81be-80f44f40c835",
   "metadata": {},
   "outputs": [],
   "source": [
    "a = cloud1['biomass_maintenance']\n",
    "b = cloud2['biomass_maintenance']\n",
    "data = [a, b]\n",
    "matplotlib.pyplot.boxplot([a, b])\n",
    "matplotlib.pyplot.show()"
   ]
  }
 ],
 "metadata": {
  "kernelspec": {
   "display_name": "Python 3 (ipykernel)",
   "language": "python",
   "name": "python3"
  },
  "language_info": {
   "codemirror_mode": {
    "name": "ipython",
    "version": 3
   },
   "file_extension": ".py",
   "mimetype": "text/x-python",
   "name": "python",
   "nbconvert_exporter": "python",
   "pygments_lexer": "ipython3",
   "version": "3.11.7"
  }
 },
 "nbformat": 4,
 "nbformat_minor": 5
}
